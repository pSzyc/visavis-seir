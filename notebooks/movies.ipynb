{
 "cells": [
  {
   "cell_type": "code",
   "execution_count": 6,
   "metadata": {},
   "outputs": [],
   "source": [
    "import subprocess\n",
    "from pathlib import Path\n",
    "import json\n",
    "import sys\n",
    "sys.path.append(\"..\")\n",
    "from scripts.client import VisAVisClient\n",
    "from scripts.make_protocol import make_protocol"
   ]
  },
  {
   "cell_type": "code",
   "execution_count": 7,
   "metadata": {},
   "outputs": [],
   "source": [
    "folder = '../movies/Channel_6x100/'\n",
    "folder_path = Path(folder)\n",
    "folder_path.mkdir(exist_ok=True, parents=True)\n",
    "\n",
    "channel_height = 6\n",
    "with open(\"../parameters.json\", 'r') as json_file:\n",
    "    PARAMETERS_DEFAULT = json.load(json_file)"
   ]
  },
  {
   "cell_type": "code",
   "execution_count": 8,
   "metadata": {},
   "outputs": [],
   "source": [
    "client = VisAVisClient(\n",
    "    visavis_bin=f'../target/bins/vis-a-vis-{channel_height}',\n",
    "    sim_root=folder_path\n",
    ")\n",
    "\n",
    "protocol_file_path = make_protocol(\n",
    "    pulse_intervals = [500],\n",
    "    duration=2,\n",
    "    out_folder='./'\n",
    ")"
   ]
  },
  {
   "cell_type": "code",
   "execution_count": 9,
   "metadata": {},
   "outputs": [],
   "source": [
    "def extinction_detector(states):\n",
    "    df = states[states['seconds'] == 320]\n",
    "    infected_sum = (df['E'] + df['I']).sum()\n",
    "    return (infected_sum == 0)\n",
    "\n",
    "def chaos_detector(states):\n",
    "    df = states[states['seconds'] == 400]\n",
    "    infected_sum = (df['E'] + df['I']).sum()\n",
    "    return (infected_sum > 0)\n",
    "\n",
    "            \n",
    "def save_with_mp4(folder=folder):\n",
    "    subprocess.run(f\"rm {folder}/movie.mp4\", shell=True)\n",
    "    subprocess.run(f\"ffmpeg -framerate 15 -pattern_type glob -i '{folder_path}/{folder}/*.png' -c:v libx264 {folder_path}/{folder}/movie.mp4\", shell=True)\n"
   ]
  },
  {
   "cell_type": "code",
   "execution_count": 10,
   "metadata": {},
   "outputs": [
    {
     "name": "stdout",
     "output_type": "stream",
     "text": [
      "\u001b[32mStarting simulation ../movies/Test/sim_PYGGQJHBVWHJFEVI\n",
      "\u001b[0m\u001b[32mFinished simulation ../movies/Test/sim_PYGGQJHBVWHJFEVI\n",
      "\u001b[0m\u001b[32mStarting simulation ../movies/Test/sim_VIHFQWWMNZUAKVAN\n",
      "\u001b[0m\u001b[32mFinished simulation ../movies/Test/sim_VIHFQWWMNZUAKVAN\n",
      "\u001b[0m\u001b[32mStarting simulation ../movies/Test/sim_CGXCAZGFRTGEEIVL\n",
      "\u001b[0m\u001b[32mFinished simulation ../movies/Test/sim_CGXCAZGFRTGEEIVL\n",
      "\u001b[0m\u001b[32mStarting simulation ../movies/Test/sim_QUAHXTXXFECALABK\n",
      "\u001b[0m\u001b[32mFinished simulation ../movies/Test/sim_QUAHXTXXFECALABK\n",
      "\u001b[0m\u001b[32mStarting simulation ../movies/Test/sim_NZSMXANRGUIZDHLY\n",
      "\u001b[0m\u001b[32mFinished simulation ../movies/Test/sim_NZSMXANRGUIZDHLY\n",
      "\u001b[0m\u001b[32mStarting simulation ../movies/Test/Simulation5\n",
      "\u001b[0m\u001b[32mFinished simulation ../movies/Test/Simulation5\n",
      "\u001b[0m"
     ]
    },
    {
     "name": "stderr",
     "output_type": "stream",
     "text": [
      "rm: cannot remove 'Simulation5/movie.mp4': No such file or directory\n",
      "ffmpeg version 6.0 Copyright (c) 2000-2023 the FFmpeg developers\n",
      "  built with gcc 13 (GCC)\n",
      "  configuration: --prefix=/usr --bindir=/usr/bin --datadir=/usr/share/ffmpeg --docdir=/usr/share/doc/ffmpeg --incdir=/usr/include/ffmpeg --libdir=/usr/lib64 --mandir=/usr/share/man --arch=x86_64 --optflags='-O2 -flto=auto -ffat-lto-objects -fexceptions -g -grecord-gcc-switches -pipe -Wall -Werror=format-security -Wp,-U_FORTIFY_SOURCE,-D_FORTIFY_SOURCE=3 -Wp,-D_GLIBCXX_ASSERTIONS -specs=/usr/lib/rpm/redhat/redhat-hardened-cc1 -fstack-protector-strong -specs=/usr/lib/rpm/redhat/redhat-annobin-cc1 -m64 -mtune=generic -fasynchronous-unwind-tables -fstack-clash-protection -fcf-protection -fno-omit-frame-pointer -mno-omit-leaf-frame-pointer' --extra-ldflags='-Wl,-z,relro -Wl,--as-needed -Wl,-z,now -specs=/usr/lib/rpm/redhat/redhat-hardened-ld -specs=/usr/lib/rpm/redhat/redhat-annobin-cc1 -Wl,--build-id=sha1 ' --extra-cflags=' -I/usr/include/rav1e' --enable-libopencore-amrnb --enable-libopencore-amrwb --enable-libvo-amrwbenc --enable-version3 --enable-bzlib --enable-chromaprint --disable-crystalhd --enable-fontconfig --enable-frei0r --enable-gcrypt --enable-gnutls --enable-ladspa --enable-libaom --enable-libdav1d --enable-libass --enable-libbluray --enable-libbs2b --enable-libcdio --enable-libdrm --enable-libjack --enable-libjxl --enable-libfreetype --enable-libfribidi --enable-libgsm --enable-libilbc --enable-libmp3lame --enable-libmysofa --enable-nvenc --enable-openal --enable-opencl --enable-opengl --enable-libopenh264 --enable-libopenjpeg --enable-libopenmpt --enable-libopus --enable-libpulse --enable-libplacebo --enable-librsvg --enable-librav1e --enable-librubberband --enable-libsmbclient --enable-version3 --enable-libsnappy --enable-libsoxr --enable-libspeex --enable-libsrt --enable-libssh --enable-libsvtav1 --enable-libtesseract --enable-libtheora --enable-libtwolame --enable-libvorbis --enable-libv4l2 --enable-libvidstab --enable-libvmaf --enable-version3 --enable-vapoursynth --enable-libvpx --enable-vulkan --enable-libshaderc --enable-libwebp --enable-libx264 --enable-libx265 --enable-libxvid --enable-libxml2 --enable-libzimg --enable-libzmq --enable-libzvbi --enable-lv2 --enable-avfilter --enable-libmodplug --enable-postproc --enable-pthreads --disable-static --enable-shared --enable-gpl --disable-debug --disable-stripping --shlibdir=/usr/lib64 --enable-lto --enable-libvpl --enable-runtime-cpudetect\n",
      "  libavutil      58.  2.100 / 58.  2.100\n",
      "  libavcodec     60.  3.100 / 60.  3.100\n",
      "  libavformat    60.  3.100 / 60.  3.100\n",
      "  libavdevice    60.  1.100 / 60.  1.100\n",
      "  libavfilter     9.  3.100 /  9.  3.100\n",
      "  libswscale      7.  1.100 /  7.  1.100\n",
      "  libswresample   4. 10.100 /  4. 10.100\n",
      "  libpostproc    57.  1.100 / 57.  1.100\n",
      "Input #0, image2, from '../movies/Test/Simulation5/*.png':\n",
      "  Duration: 00:00:16.73, start: 0.000000, bitrate: N/A\n",
      "  Stream #0:0: Video: png, rgb24(pc), 2424x207, 15 fps, 15 tbr, 15 tbn\n",
      "Stream mapping:\n",
      "  Stream #0:0 -> #0:0 (png (native) -> h264 (libx264))\n",
      "Press [q] to stop, [?] for help\n",
      "[libx264 @ 0x5558eeaad4c0] using cpu capabilities: MMX2 SSE2Fast SSSE3 SSE4.2 AVX FMA3 BMI2 AVX2\n",
      "[libx264 @ 0x5558eeaad4c0] profile High 4:4:4 Predictive, level 3.1, 4:4:4, 8-bit\n",
      "[libx264 @ 0x5558eeaad4c0] 264 - core 164 r3095 baee400 - H.264/MPEG-4 AVC codec - Copyleft 2003-2022 - http://www.videolan.org/x264.html - options: cabac=1 ref=3 deblock=1:0:0 analyse=0x3:0x113 me=hex subme=7 psy=1 psy_rd=1.00:0.00 mixed_ref=1 me_range=16 chroma_me=1 trellis=1 8x8dct=1 cqm=0 deadzone=21,11 fast_pskip=1 chroma_qp_offset=4 threads=6 lookahead_threads=1 sliced_threads=0 nr=0 decimate=1 interlaced=0 bluray_compat=0 constrained_intra=0 bframes=3 b_pyramid=2 b_adapt=1 b_bias=0 direct=1 weightb=1 open_gop=0 weightp=2 keyint=250 keyint_min=15 scenecut=40 intra_refresh=0 rc_lookahead=40 rc=crf mbtree=1 crf=23.0 qcomp=0.60 qpmin=0 qpmax=69 qpstep=4 ip_ratio=1.40 aq=1:1.00\n",
      "Output #0, mp4, to '../movies/Test/Simulation5/movie.mp4':\n",
      "  Metadata:\n",
      "    encoder         : Lavf60.3.100\n",
      "  Stream #0:0: Video: h264 (avc1 / 0x31637661), yuv444p(tv, progressive), 2424x207, q=2-31, 15 fps, 15360 tbn\n",
      "    Metadata:\n",
      "      encoder         : Lavc60.3.100 libx264\n",
      "    Side data:\n",
      "      cpb: bitrate max/min/avg: 0/0/0 buffer size: 0 vbv_delay: N/A\n",
      "frame=  251 fps=135 q=-1.0 Lsize=    1054kB time=00:00:16.53 bitrate= 522.1kbits/s speed=8.91x     \n",
      "video:1050kB audio:0kB subtitle:0kB other streams:0kB global headers:0kB muxing overhead: 0.359667%\n",
      "[libx264 @ 0x5558eeaad4c0] frame I:2     Avg QP:22.05  size: 47690\n",
      "[libx264 @ 0x5558eeaad4c0] frame P:65    Avg QP:23.75  size: 10044\n",
      "[libx264 @ 0x5558eeaad4c0] frame B:184   Avg QP:26.48  size:  1773\n",
      "[libx264 @ 0x5558eeaad4c0] consecutive B-frames:  0.8%  3.2%  3.6% 92.4%\n",
      "[libx264 @ 0x5558eeaad4c0] mb I  I16..4:  5.7% 10.7% 83.6%\n",
      "[libx264 @ 0x5558eeaad4c0] mb P  I16..4:  0.9%  0.7%  6.9%  P16..4: 10.5%  3.7%  1.7%  0.0%  0.0%    skip:75.5%\n",
      "[libx264 @ 0x5558eeaad4c0] mb B  I16..4:  0.6%  0.8%  0.7%  B16..8: 12.6%  1.9%  0.5%  direct: 0.8%  skip:82.0%  L0:49.9% L1:47.7% BI: 2.4%\n",
      "[libx264 @ 0x5558eeaad4c0] 8x8 transform intra:19.0% inter:51.3%\n",
      "[libx264 @ 0x5558eeaad4c0] coded y,u,v intra: 32.6% 19.7% 19.4% inter: 2.3% 2.0% 2.0%\n",
      "[libx264 @ 0x5558eeaad4c0] i16 v,h,dc,p: 31%  1% 68%  0%\n",
      "[libx264 @ 0x5558eeaad4c0] i8 v,h,dc,ddl,ddr,vr,hd,vl,hu: 17% 12% 69%  2%  0%  0%  0%  0%  1%\n",
      "[libx264 @ 0x5558eeaad4c0] i4 v,h,dc,ddl,ddr,vr,hd,vl,hu: 20% 30% 26%  4%  2%  9%  0%  9%  1%\n",
      "[libx264 @ 0x5558eeaad4c0] Weighted P-Frames: Y:0.0% UV:0.0%\n",
      "[libx264 @ 0x5558eeaad4c0] ref P L0: 62.3%  3.3% 21.1% 13.2%\n",
      "[libx264 @ 0x5558eeaad4c0] ref B L0: 78.2% 17.7%  4.1%\n",
      "[libx264 @ 0x5558eeaad4c0] ref B L1: 93.7%  6.3%\n",
      "[libx264 @ 0x5558eeaad4c0] kb/s:513.69\n"
     ]
    }
   ],
   "source": [
    "seed = 0\n",
    "while True:\n",
    "    seed += 1\n",
    "    results =  client.run(\n",
    "        parameters_json=PARAMETERS_DEFAULT,\n",
    "        protocol_file_path = protocol_file_path,\n",
    "        seed=seed\n",
    "        )    \n",
    "    if chaos_detector(results.states):\n",
    "        dir_name = f\"Simulation{seed}\"\n",
    "        results =  client.run(\n",
    "            parameters_json=PARAMETERS_DEFAULT,\n",
    "            protocol_file_path = protocol_file_path,\n",
    "            seed=seed,\n",
    "            dir_name=dir_name,\n",
    "            images=True,\n",
    "            clean_up=False\n",
    "            ) \n",
    "        save_with_mp4(dir_name)\n",
    "        break"
   ]
  },
  {
   "cell_type": "code",
   "execution_count": 11,
   "metadata": {},
   "outputs": [
    {
     "data": {
      "text/plain": [
       "CompletedProcess(args='rm out.protocol', returncode=0)"
      ]
     },
     "execution_count": 11,
     "metadata": {},
     "output_type": "execute_result"
    }
   ],
   "source": [
    "subprocess.run(\"rm out.protocol\", shell=True)"
   ]
  },
  {
   "cell_type": "markdown",
   "metadata": {},
   "source": [
    "## Seed"
   ]
  },
  {
   "cell_type": "markdown",
   "metadata": {},
   "source": [
    "775098 - chaos for 24x60 channel\n",
    "\n",
    "493523, 5, 99, 233 - chaos for 6x100 channed\n",
    "\n",
    "34 - ext for 6x100 channel"
   ]
  },
  {
   "cell_type": "markdown",
   "metadata": {},
   "source": [
    "let barrier_size: usize = 5;\n",
    "\n",
    "for h in 0..barrier_size{\n",
    "    // R barrier\n",
    "    let ref mut c = lattice.cells[h*Lattice::WIDTH + w];\n",
    "    c.molecules[Mol::I as usize] = 0;\n",
    "    c.molecules[Mol::E as usize] = 0;\n",
    "    c.molecules[Mol::R as usize] = 1;\n",
    "}"
   ]
  }
 ],
 "metadata": {
  "kernelspec": {
   "display_name": "Python 3",
   "language": "python",
   "name": "python3"
  },
  "language_info": {
   "codemirror_mode": {
    "name": "ipython",
    "version": 3
   },
   "file_extension": ".py",
   "mimetype": "text/x-python",
   "name": "python",
   "nbconvert_exporter": "python",
   "pygments_lexer": "ipython3",
   "version": "3.11.6"
  },
  "orig_nbformat": 4
 },
 "nbformat": 4,
 "nbformat_minor": 2
}
