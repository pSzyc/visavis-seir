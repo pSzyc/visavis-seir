{
 "cells": [
  {
   "cell_type": "code",
   "execution_count": null,
   "metadata": {},
   "outputs": [],
   "source": [
    "import subprocess\n",
    "from pathlib import Path\n",
    "import json\n",
    "import sys\n",
    "sys.path.append(\"..\")\n",
    "from scripts.client import VisAVisClient\n",
    "from scripts.make_protocol import make_protocol"
   ]
  },
  {
   "cell_type": "code",
   "execution_count": null,
   "metadata": {},
   "outputs": [],
   "source": [
    "folder = '../movies/Channel_6x100/'\n",
    "folder_path = Path(folder)\n",
    "folder_path.mkdir(exist_ok=True, parents=True)\n",
    "\n",
    "channel_height = 6\n",
    "with open(\"../parameters.json\", 'r') as json_file:\n",
    "    PARAMETERS_DEFAULT = json.load(json_file)"
   ]
  },
  {
   "cell_type": "code",
   "execution_count": null,
   "metadata": {},
   "outputs": [],
   "source": [
    "client = VisAVisClient(\n",
    "    sim_root=folder_path\n",
    ")\n",
    "\n",
    "protocol_file_path = make_protocol(\n",
    "    pulse_intervals = [500],\n",
    "    duration=2,\n",
    "    out_folder='./'\n",
    ")"
   ]
  },
  {
   "cell_type": "code",
   "execution_count": null,
   "metadata": {},
   "outputs": [],
   "source": [
    "def extinction_detector(states):\n",
    "    df = states[states['seconds'] == 320]\n",
    "    infected_sum = (df['E'] + df['I']).sum()\n",
    "    return (infected_sum == 0)\n",
    "\n",
    "def chaos_detector(states):\n",
    "    df = states[states['seconds'] == 400]\n",
    "    infected_sum = (df['E'] + df['I']).sum()\n",
    "    return (infected_sum > 0)\n",
    "\n",
    "            \n",
    "def save_with_mp4(folder=folder):\n",
    "    subprocess.run(f\"rm {folder}/movie.mp4\", shell=True)\n",
    "    subprocess.run(f\"ffmpeg -framerate 15 -pattern_type glob -i '{folder_path}/{folder}/*.png' -c:v libx264 {folder_path}/{folder}/movie.mp4\", shell=True)\n"
   ]
  },
  {
   "cell_type": "code",
   "execution_count": null,
   "metadata": {},
   "outputs": [],
   "source": [
    "seed = 0\n",
    "while True:\n",
    "    seed += 1\n",
    "    results =  client.run(\n",
    "        parameters_json=PARAMETERS_DEFAULT,\n",
    "        protocol_file_path = protocol_file_path,\n",
    "        seed=seed\n",
    "        )    \n",
    "    if chaos_detector(results.states):\n",
    "        dir_name = f\"Simulation{seed}\"\n",
    "        results =  client.run(\n",
    "            parameters_json=PARAMETERS_DEFAULT,\n",
    "            protocol_file_path = protocol_file_path,\n",
    "            seed=seed,\n",
    "            dir_name=dir_name,\n",
    "            images=True,\n",
    "            clean_up=False\n",
    "            ) \n",
    "        save_with_mp4(dir_name)\n",
    "        break"
   ]
  },
  {
   "cell_type": "code",
   "execution_count": null,
   "metadata": {},
   "outputs": [],
   "source": [
    "subprocess.run(\"rm out.protocol\", shell=True)"
   ]
  },
  {
   "cell_type": "markdown",
   "metadata": {},
   "source": [
    "## Seed"
   ]
  },
  {
   "cell_type": "markdown",
   "metadata": {},
   "source": [
    "775098 - chaos for 24x60 channel\n",
    "\n",
    "493523, 5, 99, 233 - chaos for 6x100 channed\n",
    "\n",
    "34 - ext for 6x100 channel"
   ]
  },
  {
   "cell_type": "markdown",
   "metadata": {},
   "source": [
    "let barrier_size: usize = 5;\n",
    "\n",
    "for h in 0..barrier_size{\n",
    "    // R barrier\n",
    "    let ref mut c = lattice.cells[h*Lattice::WIDTH + w];\n",
    "    c.molecules[Mol::I as usize] = 0;\n",
    "    c.molecules[Mol::E as usize] = 0;\n",
    "    c.molecules[Mol::R as usize] = 1;\n",
    "}"
   ]
  }
 ],
 "metadata": {
  "kernelspec": {
   "display_name": "Python 3",
   "language": "python",
   "name": "python3"
  },
  "language_info": {
   "codemirror_mode": {
    "name": "ipython",
    "version": 3
   },
   "file_extension": ".py",
   "mimetype": "text/x-python",
   "name": "python",
   "nbconvert_exporter": "python",
   "pygments_lexer": "ipython3",
   "version": "3.11.6"
  },
  "orig_nbformat": 4
 },
 "nbformat": 4,
 "nbformat_minor": 2
}
