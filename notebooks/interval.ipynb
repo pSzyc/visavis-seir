{
 "cells": [
  {
   "cell_type": "code",
   "execution_count": null,
   "metadata": {},
   "outputs": [],
   "source": [
    "import pandas as pd\n",
    "import matplotlib.pyplot as plt\n",
    "from track import get_infected_img\n",
    "from track import get_activations_at_h\n",
    "import sys\n",
    "from pathlib import Path\n",
    "\n",
    "sys.path.insert(0, '..') # in order to be able to import from scripts.py\n",
    "from scripts.client import VisAVisClient\n",
    "from scripts.make_protocol import make_protocol"
   ]
  },
  {
   "cell_type": "code",
   "execution_count": null,
   "metadata": {},
   "outputs": [],
   "source": [
    "PARAMETERS_DEFAULT = {\n",
    "  \"c_rate\": 1,\n",
    "  \"e_incr\": 1,\n",
    "  \"i_incr\": 1,\n",
    "  \"r_incr\": 0.0667\n",
    "}"
   ]
  },
  {
   "cell_type": "code",
   "execution_count": null,
   "metadata": {},
   "outputs": [],
   "source": [
    "folder = \"results/pulses\"\n",
    "Path(folder).mkdir(parents=True, exist_ok=True)\n",
    "intervals = [50, 100, 150, 200, 250, 300]\n",
    "signal_count = 200\n",
    "sim_num = 5"
   ]
  },
  {
   "cell_type": "code",
   "execution_count": null,
   "metadata": {},
   "outputs": [],
   "source": [
    "for channel_height in [7]:\n",
    "\n",
    "    client = VisAVisClient(\n",
    "        visavis_bin=f'../target/bins/vis-a-vis-{channel_height}',\n",
    "    )\n",
    "\n",
    "    for interval in intervals:\n",
    "\n",
    "        protocol_file_path = make_protocol(\n",
    "            pulse_intervals = (signal_count) * [interval] + [800],\n",
    "            duration=4,\n",
    "            out_folder='./'\n",
    "        )\n",
    "        for i in range(sim_num):\n",
    "            result = client.run(\n",
    "                parameters_json=PARAMETERS_DEFAULT,\n",
    "                protocol_file_path= protocol_file_path,\n",
    "            )\n",
    "            img = get_infected_img(result.states)\n",
    "            activations = get_activations_at_h(img, -1)\n",
    "            activations.to_csv(f\"{folder}/activations-{interval}-{i}.csv\")"
   ]
  },
  {
   "cell_type": "code",
   "execution_count": null,
   "metadata": {},
   "outputs": [],
   "source": [
    "import seaborn as sns \n",
    "\n",
    "fig=plt.figure(figsize=(10,10))\n",
    "fig.suptitle('Interval at end of canal\\n1000 Pulses sent with fixed interval') # or plt.suptitle('Main title')\n",
    "for i, interval in enumerate(intervals):\n",
    "        plt.subplot(3, 2, i + 1)\n",
    "        activations = pd.concat(\n",
    "                [pd.read_csv(f\"{folder}/activations-{interval}-{i}.csv\")['seconds'].diff() for i in range(sim_num)]\n",
    "                )\n",
    "        sns.histplot(activations, bins = 75, stat='probability')\n",
    "        plt.title(f\"Interval at start {interval}\")\n",
    "plt.tight_layout()\n"
   ]
  }
 ],
 "metadata": {
  "kernelspec": {
   "display_name": "usr",
   "language": "python",
   "name": "python3"
  },
  "language_info": {
   "codemirror_mode": {
    "name": "ipython",
    "version": 3
   },
   "file_extension": ".py",
   "mimetype": "text/x-python",
   "name": "python",
   "nbconvert_exporter": "python",
   "pygments_lexer": "ipython3",
   "version": "3.11.4"
  },
  "orig_nbformat": 4
 },
 "nbformat": 4,
 "nbformat_minor": 2
}
