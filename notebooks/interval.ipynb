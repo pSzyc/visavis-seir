{
 "cells": [
  {
   "cell_type": "code",
   "execution_count": null,
   "metadata": {},
   "outputs": [],
   "source": [
    "import pandas as pd\n",
    "import matplotlib.pyplot as plt\n",
    "from track import get_infected_img\n",
    "from track import get_activations_at_h\n",
    "import sys\n",
    "from tqdm import tqdm\n",
    "from pathlib import Path\n",
    "import numpy as np\n",
    "sys.path.insert(0, '..') # in order to be able to import from scripts.py\n",
    "from scripts.client import VisAVisClient\n",
    "from scripts.make_protocol import make_protocol"
   ]
  },
  {
   "cell_type": "code",
   "execution_count": null,
   "metadata": {},
   "outputs": [],
   "source": [
    "PARAMETERS_DEFAULT = {\n",
    "  \"c_rate\": 1,\n",
    "  \"e_incr\": 1,\n",
    "  \"i_incr\": 1,\n",
    "  \"r_incr\": 0.0667\n",
    "}"
   ]
  },
  {
   "cell_type": "code",
   "execution_count": null,
   "metadata": {},
   "outputs": [],
   "source": [
    "folder = \"results/test\"\n",
    "Path(folder).mkdir(parents=True, exist_ok=True)\n",
    "intervals = range(50,250,50)\n",
    "signal_count = 5\n",
    "sim_num = 4"
   ]
  },
  {
   "cell_type": "code",
   "execution_count": null,
   "metadata": {},
   "outputs": [],
   "source": [
    "def signal_to_intervals(signal, interval):\n",
    "    intervals = []\n",
    "    count = 1\n",
    "    for num in signal:\n",
    "        if num == 1:\n",
    "            intervals.append(count)\n",
    "            count = 1\n",
    "        else:\n",
    "            count += 1\n",
    "    intervals = np.array(intervals) * interval\n",
    "    return intervals\n",
    "\n",
    "signal = np.random.choice([0, 1], size=(signal_count,))"
   ]
  },
  {
   "cell_type": "code",
   "execution_count": null,
   "metadata": {},
   "outputs": [],
   "source": [
    "for chanel_height in [7]:\n",
    "    client = VisAVisClient(\n",
    "        visavis_bin=f'../target/bins/vis-a-vis-{chanel_height}',\n",
    "    )\n",
    "\n",
    "    for interval in intervals:\n",
    "        protocol_file_path = make_protocol(\n",
    "            pulse_intervals = (signal_count - 1) * [interval] + [800],\n",
    "            duration=4,\n",
    "            out_folder='./'\n",
    "        )\n",
    "\n",
    "        for sim in range(sim_num):\n",
    "            result = client.run(\n",
    "            parameters_json=PARAMETERS_DEFAULT,\n",
    "            protocol_file_path= protocol_file_path,\n",
    "            )\n",
    "            img = get_infected_img(result.states)\n",
    "            activations = get_activations_at_h(img, -1)\n",
    "            activations.to_csv(f\"{folder}/out-{interval}-{sim}.csv\")"
   ]
  },
  {
   "cell_type": "markdown",
   "metadata": {},
   "source": [
    "# Interval plot"
   ]
  },
  {
   "cell_type": "code",
   "execution_count": null,
   "metadata": {},
   "outputs": [],
   "source": [
    "import seaborn as sns \n",
    "\n",
    "fig, axes = plt.subplots(3, 2, figsize = (10,10) ,sharex=True, sharey=True)\n",
    "fig.suptitle('Interval at end of canal\\n1000 Pulses sent with fixed interval') # or plt.suptitle('Main title')\n",
    "for i, interval in enumerate(intervals):\n",
    "        activations = pd.concat(\n",
    "                [pd.read_csv(f\"{folder}/out-{interval}-{i}.csv\")['seconds'].diff() for i in range(sim_num)]\n",
    "                )\n",
    "        sns.histplot(activations, bins = 75, stat='probability', ax = axes[i//2][i%2])\n",
    "        axes[i//2][i%2].set_title(f\"Interval at start {interval}\")\n",
    "plt.tight_layout()\n"
   ]
  },
  {
   "cell_type": "markdown",
   "metadata": {},
   "source": [
    "# Width plot"
   ]
  },
  {
   "cell_type": "code",
   "execution_count": null,
   "metadata": {},
   "outputs": [],
   "source": [
    "import seaborn as sns \n",
    "\n",
    "fig, axes = plt.subplots(4, 3, figsize = (10,10) ,sharex=True, sharey=True)\n",
    "fig.suptitle('Interval at end of canal\\n1000 Pulses sent with fixed interval')\n",
    "intervals = [100, 200, 300]\n",
    "\n",
    "index = 0\n",
    "for width in range(200, 900, 200):\n",
    "        folder = f\"results/width-{width}\"\n",
    "        for interval in intervals:\n",
    "                activations = pd.concat([pd.read_csv(f\"{folder}/out-{interval}-{i}.csv\")['seconds'].diff() for i in range(sim_num)])\n",
    "                sns.histplot(activations, bins = 75, stat='probability', ax = axes[index//3][index%3])\n",
    "                axes[index//3][index%3].set_title(f\"Interval: {interval}, Width: {width}\")\n",
    "                #axes[index//3][index%3].set_xlim(0, 500)\n",
    "                index += 1\n",
    "plt.tight_layout()"
   ]
  },
  {
   "cell_type": "code",
   "execution_count": null,
   "metadata": {},
   "outputs": [],
   "source": []
  }
 ],
 "metadata": {
  "kernelspec": {
   "display_name": "usr",
   "language": "python",
   "name": "python3"
  },
  "language_info": {
   "codemirror_mode": {
    "name": "ipython",
    "version": 3
   },
   "file_extension": ".py",
   "mimetype": "text/x-python",
   "name": "python",
   "nbconvert_exporter": "python",
   "pygments_lexer": "ipython3",
   "version": "3.11.4"
  },
  "orig_nbformat": 4
 },
 "nbformat": 4,
 "nbformat_minor": 2
}
