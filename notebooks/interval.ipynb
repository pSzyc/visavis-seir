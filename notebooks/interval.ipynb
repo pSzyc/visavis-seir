{
 "cells": [
  {
   "cell_type": "code",
   "execution_count": 4,
   "metadata": {},
   "outputs": [],
   "source": [
    "import numpy as np\n",
    "import pandas as pd\n",
    "import matplotlib.pyplot as plt\n",
    "from track import get_infected_img\n",
    "from tqdm import tqdm\n",
    "from track import get_activations_at_h\n",
    "import sys\n",
    "\n",
    "sys.path.insert(0, '..') # in order to be able to import from scripts.py\n",
    "from scripts.client import VisAVisClient\n",
    "from scripts.make_protocol import make_protocol"
   ]
  },
  {
   "cell_type": "code",
   "execution_count": 5,
   "metadata": {},
   "outputs": [],
   "source": [
    "PARAMETERS_DEFAULT = {\n",
    "  \"c_rate\": 1,\n",
    "  \"e_incr\": 1,\n",
    "  \"i_incr\": 1,\n",
    "  \"r_incr\": 0.0667\n",
    "}"
   ]
  },
  {
   "cell_type": "code",
   "execution_count": 7,
   "metadata": {},
   "outputs": [],
   "source": [
    "folder = \"results/pulses\"\n",
    "simulation_time = 5 * 10 ** 4"
   ]
  },
  {
   "cell_type": "code",
   "execution_count": 8,
   "metadata": {},
   "outputs": [
    {
     "name": "stdout",
     "output_type": "stream",
     "text": [
      "Starting simulation /tmp/sim_SBNNKLKXZYMMCUHX\n",
      "Finished simulation /tmp/sim_SBNNKLKXZYMMCUHX\n",
      "Starting simulation /tmp/sim_XVZSYOVKBLRPEFMT\n",
      "Finished simulation /tmp/sim_XVZSYOVKBLRPEFMT\n",
      "Starting simulation /tmp/sim_VJRSHVDLFCMOIXDB\n",
      "Finished simulation /tmp/sim_VJRSHVDLFCMOIXDB\n",
      "Starting simulation /tmp/sim_IWBJOCGTUTUYPNIJ\n",
      "Finished simulation /tmp/sim_IWBJOCGTUTUYPNIJ\n"
     ]
    }
   ],
   "source": [
    "for channel_height in [7]:\n",
    "\n",
    "    client = VisAVisClient(\n",
    "        visavis_bin=f'../target/bins/vis-a-vis-{channel_height}',\n",
    "    )\n",
    "\n",
    "    for interval in [50, 100, 150, 200]:\n",
    "\n",
    "        protocol_file_path = make_protocol(\n",
    "            pulse_intervals = (simulation_time//interval) * [interval] + [800],\n",
    "            duration=4,\n",
    "            out_folder='./'\n",
    "        )\n",
    "    \n",
    "        result = client.run(\n",
    "            parameters_json=PARAMETERS_DEFAULT,\n",
    "            protocol_file_path= protocol_file_path,\n",
    "        )\n",
    "        result.states.to_csv(f\"{folder}/out-{interval}.csv\", index=False)\n",
    "        "
   ]
  },
  {
   "cell_type": "code",
   "execution_count": 12,
   "metadata": {},
   "outputs": [],
   "source": [
    "import seaborn as sns \n",
    "\n",
    "fig=plt.figure(figsize=(10,10))\n",
    "fig.suptitle('Interval at end of canal\\nPulses sent with fixed interval') # or plt.suptitle('Main title')\n",
    "for i, interval in enumerate([50, 100, 150, 200]):\n",
    "    plt.subplot(2, 2, i +1)\n",
    "    df = pd.read_csv(f\"{folder}/out-{interval}.csv\")\n",
    "    img = get_infected_img(df)\n",
    "    activations = get_activations_at_h(img, -1, False)\n",
    "    sns.histplot(activations.reset_index()['seconds'].diff(), bins = 50)\n",
    "    plt.title(f\"Interval at start {interval}\")\n",
    "plt.tight_layout()\n"
   ]
  },
  {
   "cell_type": "code",
   "execution_count": null,
   "metadata": {},
   "outputs": [],
   "source": []
  }
 ],
 "metadata": {
  "kernelspec": {
   "display_name": "usr",
   "language": "python",
   "name": "python3"
  },
  "language_info": {
   "codemirror_mode": {
    "name": "ipython",
    "version": 3
   },
   "file_extension": ".py",
   "mimetype": "text/x-python",
   "name": "python",
   "nbconvert_exporter": "python",
   "pygments_lexer": "ipython3",
   "version": "3.11.4"
  },
  "orig_nbformat": 4
 },
 "nbformat": 4,
 "nbformat_minor": 2
}
