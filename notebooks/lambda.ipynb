{
 "cells": [
  {
   "cell_type": "code",
   "execution_count": null,
   "metadata": {},
   "outputs": [],
   "source": [
    "import pandas as pd\n",
    "import numpy as np"
   ]
  },
  {
   "cell_type": "code",
   "execution_count": null,
   "metadata": {},
   "outputs": [],
   "source": [
    "df = pd.read_csv(\"Data/pulse_fates.csv\")\n",
    "\n",
    "# Extinction\n",
    "df['ext'] = np.nan\n",
    "ext_mask = (df['fate'] == 'failure') & (df['channel_length'] - df['track_end_position'] > 30)\n",
    "df.loc[ext_mask, 'ext'] = df.loc[ext_mask, 'track_end']\n",
    "\n",
    "# Choas\n",
    "df['chaos'] = df['significant_split_time']"
   ]
  },
  {
   "cell_type": "code",
   "execution_count": null,
   "metadata": {},
   "outputs": [],
   "source": [
    "def get_results(df):\n",
    "    df_results = df.loc[:, ['ext', 'chaos']]\n",
    "    df_results['Time'] = df_results[['ext', 'chaos']].min(axis=1)\n",
    "    df_results['Event'] = df_results.idxmin(axis=1)\n",
    "\n",
    "    mean_t = df_results['Time'].mean()\n",
    "    events = df_results['Event'].value_counts().reindex(['ext', 'chaos']).fillna(0).astype(int)\n",
    "    return events, mean_t\n",
    "\n",
    "events, mean_t = get_results(df)"
   ]
  },
  {
   "cell_type": "code",
   "execution_count": null,
   "metadata": {},
   "outputs": [],
   "source": [
    "def l_value(n_event, mean_t, n, T, events):\n",
    "    l = n_event / (n_event * mean_t + (n - n_event) * T)\n",
    "    l_chaos = events['chaos'] / n_event * l\n",
    "    l_ext = events['ext'] / n_event * l\n",
    "    return l, l_chaos, l_ext\n",
    "\n",
    "n_events = events.sum()\n",
    "total_time = 1200                       # Total time of simulation\n",
    "n = len(df)                             # Number of simulation\n",
    "l, l_chaos, l_ext = l_value(n_events, mean_t, n, total_time, events)"
   ]
  },
  {
   "cell_type": "code",
   "execution_count": null,
   "metadata": {},
   "outputs": [],
   "source": [
    "l, l_chaos, l_ext"
   ]
  }
 ],
 "metadata": {
  "kernelspec": {
   "display_name": "Python 3",
   "language": "python",
   "name": "python3"
  },
  "language_info": {
   "codemirror_mode": {
    "name": "ipython",
    "version": 3
   },
   "file_extension": ".py",
   "mimetype": "text/x-python",
   "name": "python",
   "nbconvert_exporter": "python",
   "pygments_lexer": "ipython3",
   "version": "3.11.6"
  }
 },
 "nbformat": 4,
 "nbformat_minor": 2
}
