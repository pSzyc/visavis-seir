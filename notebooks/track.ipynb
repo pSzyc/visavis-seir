{
 "cells": [
  {
   "cell_type": "code",
   "execution_count": null,
   "metadata": {},
   "outputs": [],
   "source": [
    "import numpy as np\n",
    "import pandas as pd\n",
    "import matplotlib.pyplot as plt\n",
    "from track import get_infected_img\n",
    "from track import get_tracks, plot_tracks, get_events_df\n",
    "from tqdm import tqdm\n",
    "import sys\n",
    "from pathlib import Path\n",
    "sys.path.insert(0, '..') # in order to be able to import from scripts.py\n",
    "from scripts.client import VisAVisClient\n",
    "from scripts.make_protocol import make_protocol"
   ]
  },
  {
   "cell_type": "code",
   "execution_count": null,
   "metadata": {},
   "outputs": [],
   "source": [
    "PARAMETERS_DEFAULT = {\n",
    "  \"c_rate\": 1,\n",
    "  \"e_incr\": 1,\n",
    "  \"i_incr\": 1,\n",
    "  \"r_incr\": 0.0667\n",
    "}"
   ]
  },
  {
   "cell_type": "markdown",
   "metadata": {},
   "source": [
    "# Tracking simulations"
   ]
  },
  {
   "cell_type": "code",
   "execution_count": null,
   "metadata": {},
   "outputs": [],
   "source": [
    "from laptrack import LapTrack\n",
    "\n",
    "def get_laptrack(max_distance = 25):\n",
    "    lt = LapTrack(\n",
    "        track_dist_metric=\"sqeuclidean\",  \n",
    "        splitting_dist_metric=\"sqeuclidean\",\n",
    "        merging_dist_metric=\"sqeuclidean\",\n",
    "        track_cost_cutoff=max_distance**2,\n",
    "        splitting_cost_cutoff=max_distance**2,  # False for non-splitting case\n",
    "        merging_cost_cutoff=False,  # False for non-merging case\n",
    "        )\n",
    "    return lt\n",
    "\n",
    "def cut_small_trees(track_df, size = 10):\n",
    "    tree_count = track_df.groupby('tree_id').size()\n",
    "    false_trees = tree_count[tree_count < size].index.values\n",
    "    track_df = track_df[~track_df.tree_id.isin(false_trees)]\n",
    "    for index in false_trees:\n",
    "        track_df.loc[track_df.tree_id > index, 'tree_id'] -= 1\n",
    "    return track_df"
   ]
  },
  {
   "cell_type": "code",
   "execution_count": null,
   "metadata": {},
   "outputs": [],
   "source": [
    "roll = 20\n",
    "std_factor = 1/10\n",
    "max_distance = 30\n",
    "sim_num = 500\n",
    "folder = \"results/data150\"\n",
    "\n",
    "events = []\n",
    "too_many_splits = []\n",
    "lt = get_laptrack(max_distance=max_distance)\n",
    "for i in tqdm(range(sim_num)):\n",
    "    df = pd.read_csv(f\"{folder}/out-{i}.csv\")\n",
    "    img = get_infected_img(df)\n",
    "    track_df, split_df, merge_df = get_tracks(img, lt, roll=roll, std_factor=std_factor)\n",
    "\n",
    "    track_df = cut_small_trees(track_df)\n",
    "    \n",
    "    if (track_df['tree_id'] > 1).any():\n",
    "        too_many_splits.append(i)\n",
    "    if len(split_df) == 0:\n",
    "        events.append(pd.DataFrame())\n",
    "        continue\n",
    "    events_df = get_events_df(track_df, split_df)\n",
    "    events.append(events_df)"
   ]
  },
  {
   "cell_type": "code",
   "execution_count": null,
   "metadata": {},
   "outputs": [],
   "source": [
    "df_results = pd.concat(events, names=['sim_id'], keys=range(sim_num))\n",
    "too_many_splits"
   ]
  },
  {
   "cell_type": "code",
   "execution_count": null,
   "metadata": {},
   "outputs": [],
   "source": [
    "df_results['tree_id'].value_counts()"
   ]
  },
  {
   "cell_type": "markdown",
   "metadata": {},
   "source": [
    "## Testing"
   ]
  },
  {
   "cell_type": "code",
   "execution_count": null,
   "metadata": {},
   "outputs": [],
   "source": [
    "def debug(sim_path, max_distance, roll = 20, std_factor = 1/10):\n",
    "    df = pd.read_csv(sim_path)\n",
    "    img = get_infected_img(df)\n",
    "    lt = get_laptrack(max_distance=max_distance)\n",
    "    track_df, split_df, merge_df = get_tracks(img, lt, roll=roll, std_factor=std_factor)\n",
    "    \n",
    "    plot_tracks(track_df, split_df, merge_df)\n",
    "    return track_df, split_df"
   ]
  },
  {
   "cell_type": "code",
   "execution_count": null,
   "metadata": {},
   "outputs": [],
   "source": [
    "for i, sim_id in enumerate(too_many_splits):\n",
    "    sim_path = f\"results/data150/out-{sim_id}.csv\"\n",
    "    track_df, _ = debug(sim_path, max_distance=30, roll = 20, std_factor=1/10)\n",
    "    plt.title(f\"Simulation id: {sim_id}, {len(track_df[track_df['tree_id'] > 1])}\")\n",
    "    plt.show()\n"
   ]
  },
  {
   "cell_type": "code",
   "execution_count": null,
   "metadata": {},
   "outputs": [],
   "source": [
    "first_signal_splits = df_results[df_results['tree_id'] == 1].groupby('sim_id').size().sort_values(ascending=False).index.values\n",
    "for i, sim_id in enumerate(first_signal_splits[:10]):\n",
    "    sim_path = f\"results/data150/out-{sim_id}.csv\"\n",
    "    plt.title(f\"Simulation id: {sim_id}\")\n",
    "    debug(sim_path, max_distance=30, roll=20, std_factor=1/10)\n",
    "    plt.show()"
   ]
  },
  {
   "cell_type": "markdown",
   "metadata": {},
   "source": [
    "# Get data"
   ]
  },
  {
   "cell_type": "code",
   "execution_count": null,
   "metadata": {},
   "outputs": [],
   "source": [
    "sim_num =500\n",
    "folder = \"results/data150\"\n",
    "Path(folder).mkdir(exist_ok=True, parents=True)"
   ]
  },
  {
   "cell_type": "code",
   "execution_count": null,
   "metadata": {},
   "outputs": [],
   "source": [
    "for channel_height in [7]:\n",
    "\n",
    "    client = VisAVisClient(\n",
    "        visavis_bin=f'../target/bins/vis-a-vis-{channel_height}',\n",
    "    )\n",
    "\n",
    "    for interval in [150]:\n",
    "\n",
    "        protocol_file_path = make_protocol(\n",
    "            pulse_intervals = [interval, 1500],\n",
    "            duration=4,\n",
    "            out_folder='./'\n",
    "        )\n",
    "        \n",
    "        for sim in tqdm(range(sim_num)):\n",
    "            result = client.run(\n",
    "                parameters_json=PARAMETERS_DEFAULT,\n",
    "                protocol_file_path= protocol_file_path,\n",
    "            )\n",
    "            result.states.to_csv(f\"{folder}/out-{sim}.csv\", index=False)"
   ]
  }
 ],
 "metadata": {
  "kernelspec": {
   "display_name": "usr",
   "language": "python",
   "name": "python3"
  },
  "language_info": {
   "codemirror_mode": {
    "name": "ipython",
    "version": 3
   },
   "file_extension": ".py",
   "mimetype": "text/x-python",
   "name": "python",
   "nbconvert_exporter": "python",
   "pygments_lexer": "ipython3",
   "version": "3.11.4"
  },
  "orig_nbformat": 4
 },
 "nbformat": 4,
 "nbformat_minor": 2
}
