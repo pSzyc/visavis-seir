{
 "cells": [
  {
   "cell_type": "code",
   "execution_count": null,
   "metadata": {},
   "outputs": [],
   "source": [
    "import numpy as np\n",
    "import pandas as pd\n",
    "import matplotlib.pyplot as plt\n",
    "from track import get_infected_img\n",
    "from track import get_tracks, plot_tracks, get_events_df\n",
    "from tqdm import tqdm\n",
    "import sys\n",
    "sys.path.insert(0, '..') # in order to be able to import from scripts.py\n",
    "from scripts.client import VisAVisClient\n",
    "from scripts.make_protocol import make_protocol"
   ]
  },
  {
   "cell_type": "code",
   "execution_count": null,
   "metadata": {},
   "outputs": [],
   "source": [
    "PARAMETERS_DEFAULT = {\n",
    "  \"c_rate\": 1,\n",
    "  \"e_incr\": 1,\n",
    "  \"i_incr\": 1,\n",
    "  \"r_incr\": 0.0667\n",
    "}"
   ]
  },
  {
   "cell_type": "markdown",
   "metadata": {},
   "source": [
    "# Tracking simulations"
   ]
  },
  {
   "cell_type": "code",
   "execution_count": null,
   "metadata": {},
   "outputs": [],
   "source": [
    "sim_num = 500\n",
    "folder = \"results/data\" # get from https://drive.google.com/file/d/1zznedtXpV-gMKp_eC2hkqxM-rrvjJH9w/view?usp=sharing"
   ]
  },
  {
   "cell_type": "code",
   "execution_count": null,
   "metadata": {},
   "outputs": [],
   "source": [
    "from laptrack import LapTrack\n",
    "def get_laptrack(max_distance = 32):\n",
    "    lt = LapTrack(\n",
    "        track_dist_metric=\"sqeuclidean\",  # The similarity metric for particles. See `scipy.spatial.distance.cdist` for allowed values.\n",
    "        splitting_dist_metric=\"sqeuclidean\",\n",
    "        merging_dist_metric=\"sqeuclidean\",\n",
    "        track_cost_cutoff=max_distance**2,\n",
    "        splitting_cost_cutoff=max_distance**2,  # or False for non-splitting case\n",
    "        merging_cost_cutoff= False,  # or False for non-merging case\n",
    "        )\n",
    "    return lt"
   ]
  },
  {
   "cell_type": "code",
   "execution_count": null,
   "metadata": {},
   "outputs": [],
   "source": [
    "events = []\n",
    "too_many_splits = []\n",
    "lt = get_laptrack(max_distance = 20)\n",
    "\n",
    "for i in tqdm(range(sim_num)):\n",
    "    df = pd.read_csv(f\"{folder}/out-{i}.csv\")\n",
    "    img = get_infected_img(df)\n",
    "    track_df, split_df, merge_df = get_tracks(img, lt, roll=20, std_factor=1/6)\n",
    "    if (track_df['tree_id'] > 1).any():\n",
    "        too_many_splits.append(i)\n",
    "    if len(split_df) == 0:\n",
    "        events.append(pd.DataFrame())\n",
    "        continue\n",
    "    events_df = get_events_df(track_df, split_df)\n",
    "    events.append(events_df)"
   ]
  },
  {
   "cell_type": "code",
   "execution_count": null,
   "metadata": {},
   "outputs": [],
   "source": [
    "df_results = pd.concat(events, names=['sim_id'], keys=range(sim_num))\n",
    "df_results.to_csv(\"results/results.csv\")\n",
    "np.savetxt(\"sim_id_errors.txt\",np.array(too_many_splits), fmt='%s')"
   ]
  },
  {
   "cell_type": "code",
   "execution_count": null,
   "metadata": {},
   "outputs": [],
   "source": [
    "#too_many_splits = np.array([ 25,  39,  42,  52, 131, 134, 151, 163, 185, 203, 219, 222, 229,\n",
    "#       232, 236, 237, 250, 256, 259, 263, 280, 301, 307, 335, 348, 358,\n",
    "#       370, 391, 399, 425, 437, 449, 482, 490, 499])"
   ]
  },
  {
   "cell_type": "markdown",
   "metadata": {},
   "source": [
    "## Testing"
   ]
  },
  {
   "cell_type": "code",
   "execution_count": null,
   "metadata": {},
   "outputs": [],
   "source": [
    "def debug(sim_path, max_distance, roll = 20, std_factor = 1/6):\n",
    "    df = pd.read_csv(sim_path)\n",
    "    img = get_infected_img(df)\n",
    "    get_laptrack(max_distance=max_distance)\n",
    "    track_df, split_df, merge_df = get_tracks(img, lt, roll=roll, std_factor=std_factor)\n",
    "    plot_tracks(track_df, split_df, merge_df)\n",
    "    return track_df, split_df"
   ]
  },
  {
   "cell_type": "code",
   "execution_count": null,
   "metadata": {},
   "outputs": [],
   "source": [
    "for i, sim_id in enumerate(too_many_splits):\n",
    "    sim_path = f\"results/data/out-{sim_id}.csv\"\n",
    "    plt.title(f\"Simulation id: {sim_id}\")\n",
    "    debug(sim_path, 25, roll = 20, std_factor=1/6)"
   ]
  },
  {
   "cell_type": "code",
   "execution_count": null,
   "metadata": {},
   "outputs": [],
   "source": [
    "zero_splits = df_results[df_results['tree_id'] == 0].groupby('sim_id').size().index.values\n",
    "zero_splits # 309 is error rest is ok"
   ]
  },
  {
   "cell_type": "code",
   "execution_count": null,
   "metadata": {},
   "outputs": [],
   "source": [
    "for i, sim_id in enumerate(zero_splits):\n",
    "    sim_path = f\"results/data/out-{sim_id}.csv\"\n",
    "    plt.title(f\"Simulation id: {sim_id}\")\n",
    "    debug(sim_path, 25, roll=20)\n"
   ]
  },
  {
   "cell_type": "markdown",
   "metadata": {},
   "source": [
    "# Get data"
   ]
  },
  {
   "cell_type": "code",
   "execution_count": null,
   "metadata": {},
   "outputs": [],
   "source": [
    "sim_num = 500\n",
    "folder = \"results/data\""
   ]
  },
  {
   "cell_type": "code",
   "execution_count": null,
   "metadata": {},
   "outputs": [],
   "source": [
    "for channel_height in [7]:\n",
    "\n",
    "    client = VisAVisClient(\n",
    "        visavis_bin=f'../target/bins/vis-a-vis-{channel_height}',\n",
    "    )\n",
    "\n",
    "    for interval in [100]:\n",
    "\n",
    "        protocol_file_path = make_protocol(\n",
    "            pulse_intervals = [interval, 1500],\n",
    "            duration=4,\n",
    "            out_folder='./'\n",
    "        )\n",
    "        \n",
    "        for sim in tqdm(range(sim_num)):\n",
    "            result = client.run(\n",
    "                parameters_json=PARAMETERS_DEFAULT,\n",
    "                protocol_file_path= protocol_file_path,\n",
    "            )\n",
    "            result.states.to_csv(f\"{folder}/out-{sim}.csv\", index=False)"
   ]
  }
 ],
 "metadata": {
  "kernelspec": {
   "display_name": "usr",
   "language": "python",
   "name": "python3"
  },
  "language_info": {
   "codemirror_mode": {
    "name": "ipython",
    "version": 3
   },
   "file_extension": ".py",
   "mimetype": "text/x-python",
   "name": "python",
   "nbconvert_exporter": "python",
   "pygments_lexer": "ipython3",
   "version": "3.11.4"
  },
  "orig_nbformat": 4
 },
 "nbformat": 4,
 "nbformat_minor": 2
}
