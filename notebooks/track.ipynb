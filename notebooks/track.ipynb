{
 "cells": [
  {
   "cell_type": "code",
   "execution_count": null,
   "metadata": {},
   "outputs": [],
   "source": [
    "import numpy as np\n",
    "import pandas as pd\n",
    "import matplotlib.pyplot as plt\n",
    "from track import get_infected_img\n",
    "from track import get_tracks, plot_tracks, get_events_df, get_laptrack\n",
    "from tqdm import tqdm\n",
    "import sys\n",
    "\n",
    "sys.path.insert(0, '..') # in order to be able to import from scripts.py\n",
    "from scripts.client import VisAVisClient\n",
    "from scripts.make_protocol import make_protocol"
   ]
  },
  {
   "cell_type": "code",
   "execution_count": null,
   "metadata": {},
   "outputs": [],
   "source": [
    "PARAMETERS_DEFAULT = {\n",
    "  \"c_rate\": 1,\n",
    "  \"e_incr\": 1,\n",
    "  \"i_incr\": 1,\n",
    "  \"r_incr\": 0.0667\n",
    "}"
   ]
  },
  {
   "cell_type": "markdown",
   "metadata": {},
   "source": [
    "# Analize the results"
   ]
  },
  {
   "cell_type": "code",
   "execution_count": null,
   "metadata": {},
   "outputs": [],
   "source": [
    "df_results = pd.read_csv(\"results/results.csv\")\n",
    "df_results = df_results.drop(columns=\"Unnamed: 1\")"
   ]
  },
  {
   "cell_type": "code",
   "execution_count": null,
   "metadata": {},
   "outputs": [],
   "source": [
    "df_results[df_results['tree_id'] == 0]"
   ]
  },
  {
   "cell_type": "code",
   "execution_count": null,
   "metadata": {},
   "outputs": [],
   "source": [
    "i = 301     # increase max_distance and then try i = 43\n",
    "df = pd.read_csv(f\"results/data/out-{i}.csv\")\n",
    "img = get_infected_img(df)\n",
    "lt = get_laptrack(max_distance=25)\n",
    "track_df, split_df, merge_df = get_tracks(img, lt)\n",
    "events_df = get_events_df(track_df, split_df)\n",
    "plot_tracks(track_df, split_df, merge_df)"
   ]
  },
  {
   "cell_type": "markdown",
   "metadata": {},
   "source": [
    "# Get data"
   ]
  },
  {
   "cell_type": "code",
   "execution_count": null,
   "metadata": {},
   "outputs": [],
   "source": [
    "sim_num = 500\n",
    "folder = \"results/data\""
   ]
  },
  {
   "cell_type": "code",
   "execution_count": null,
   "metadata": {},
   "outputs": [],
   "source": [
    "for channel_height in [7]:\n",
    "\n",
    "    client = VisAVisClient(\n",
    "        visavis_bin=f'../target/bins/vis-a-vis-{channel_height}',\n",
    "    )\n",
    "\n",
    "    for interval in [100]:\n",
    "\n",
    "        protocol_file_path = make_protocol(\n",
    "            pulse_intervals = [interval, 1500],\n",
    "            duration=4,\n",
    "            out_folder='./'\n",
    "        )\n",
    "        \n",
    "        for sim in tqdm(range(sim_num)):\n",
    "            result = client.run(\n",
    "                parameters_json=PARAMETERS_DEFAULT,\n",
    "                protocol_file_path= protocol_file_path,\n",
    "            )\n",
    "            result.states.to_csv(f\"{folder}/out-{sim}.csv\", index=False)"
   ]
  },
  {
   "cell_type": "code",
   "execution_count": null,
   "metadata": {},
   "outputs": [],
   "source": [
    "events = []\n",
    "lt = get_laptrack(max_distance = 32)\n",
    "\n",
    "for i in tqdm(range(sim_num)):\n",
    "    df = pd.read_csv(f\"{folder}/out-{i}.csv\")\n",
    "    img = get_infected_img(df)\n",
    "    track_df, split_df, merge_df = get_tracks(img, lt)\n",
    "    if len(split_df) == 0:\n",
    "        events.append(pd.DataFrame())\n",
    "        continue\n",
    "    events_df = get_events_df(track_df, split_df)\n",
    "    events_df.index.name = 'event_id'\n",
    "    events.append(events_df)"
   ]
  },
  {
   "cell_type": "code",
   "execution_count": null,
   "metadata": {},
   "outputs": [],
   "source": [
    "df_results = pd.concat(events, names=['sim_id'], keys=range(sim_num))\n",
    "df_results.to_csv(f\"{folder}/results.csv\")"
   ]
  },
  {
   "cell_type": "code",
   "execution_count": null,
   "metadata": {},
   "outputs": [],
   "source": [
    "df_results['tree_id'].value_counts()"
   ]
  },
  {
   "cell_type": "code",
   "execution_count": null,
   "metadata": {},
   "outputs": [],
   "source": []
  }
 ],
 "metadata": {
  "kernelspec": {
   "display_name": "usr",
   "language": "python",
   "name": "python3"
  },
  "language_info": {
   "codemirror_mode": {
    "name": "ipython",
    "version": 3
   },
   "file_extension": ".py",
   "mimetype": "text/x-python",
   "name": "python",
   "nbconvert_exporter": "python",
   "pygments_lexer": "ipython3",
   "version": "3.11.4"
  },
  "orig_nbformat": 4
 },
 "nbformat": 4,
 "nbformat_minor": 2
}
