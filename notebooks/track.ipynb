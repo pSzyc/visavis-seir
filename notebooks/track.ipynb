{
 "cells": [
  {
   "cell_type": "code",
   "execution_count": 8,
   "metadata": {},
   "outputs": [],
   "source": [
    "import numpy as np\n",
    "import pandas as pd\n",
    "import matplotlib.pyplot as plt\n",
    "from track import get_infected_img\n",
    "from track import get_tracks, plot_tracks\n",
    "from tqdm import tqdm\n",
    "import sys\n",
    "from pathlib import Path\n",
    "import matplotlib\n",
    "sys.path.insert(0, '..') # in order to be able to import from scripts.py\n",
    "from scripts.client import VisAVisClient\n",
    "from scripts.make_protocol import make_protocol"
   ]
  },
  {
   "cell_type": "code",
   "execution_count": 9,
   "metadata": {},
   "outputs": [],
   "source": [
    "PARAMETERS_DEFAULT = {\n",
    "  \"c_rate\": 1,\n",
    "  \"e_incr\": 1,\n",
    "  \"i_incr\": 1,\n",
    "  \"r_incr\": 0.0667\n",
    "}"
   ]
  },
  {
   "cell_type": "markdown",
   "metadata": {},
   "source": [
    "# Tracking simulations"
   ]
  },
  {
   "cell_type": "code",
   "execution_count": 10,
   "metadata": {},
   "outputs": [],
   "source": [
    "from laptrack import LapTrack\n",
    "\n",
    "def get_laptrack(max_distance = 25):\n",
    "    lt = LapTrack(\n",
    "        track_dist_metric=\"sqeuclidean\",  \n",
    "        splitting_dist_metric=\"sqeuclidean\",\n",
    "        merging_dist_metric=\"sqeuclidean\",\n",
    "        track_cost_cutoff=max_distance**2,\n",
    "        splitting_cost_cutoff=max_distance**2,  # False for non-splitting case\n",
    "        merging_cost_cutoff=False,  # False for non-merging case\n",
    "        )\n",
    "    return lt\n",
    "\n",
    "def plot_trees(track_df):\n",
    "    colors = [list(np.random.choice(range(256), size=3)) for _ in range(len(track_df['tree_id'].unique()))]\n",
    "    cmap = matplotlib.colors.ListedColormap(colors)\n",
    "    plt.figure(figsize=(20, 10))\n",
    "    plt.scatter(track_df.seconds, track_df.h, c=track_df.tree_id, cmap=cmap)\n",
    "\n",
    "def cut_small_trees(track_df, size = 10):\n",
    "    tree_count = track_df.groupby('tree_id').size()\n",
    "    false_trees = tree_count[tree_count < size].index.values\n",
    "    track_df = track_df[~track_df.tree_id.isin(false_trees)]\n",
    "    for index in false_trees:\n",
    "        track_df.loc[track_df.tree_id > index, 'tree_id'] -= 1\n",
    "    return track_df\n",
    "\n",
    "def analize_tracks(sim_path, max_distance, roll = 20, std_factor = 1/10):\n",
    "    df = pd.read_csv(sim_path)\n",
    "    img = get_infected_img(df)\n",
    "    lt = get_laptrack(max_distance=max_distance)\n",
    "    track_df, split_df, merge_df = get_tracks(img, lt, roll=roll, std_factor=std_factor)\n",
    "    track_df = cut_small_trees(track_df) \n",
    "    return track_df, split_df, merge_df"
   ]
  },
  {
   "cell_type": "markdown",
   "metadata": {},
   "source": [
    "# 50 Pulses "
   ]
  },
  {
   "cell_type": "code",
   "execution_count": null,
   "metadata": {},
   "outputs": [],
   "source": [
    "roll = 20\n",
    "std_factor = 1/10\n",
    "max_distance = 30\n",
    "sim_num = 10\n",
    "folder = \"results/P50\"\n",
    "pulses = 50\n",
    "results = []\n",
    "\n",
    "for sim_id in tqdm(range(sim_num)):\n",
    "    plt.figure(figsize=(20, 10))\n",
    "    sim_path = f\"results/P50/out-{sim_id}.csv\"\n",
    "    track_df, split_df, merge_df = analize_tracks(sim_path, max_distance=30, roll=20, std_factor=1/10)\n",
    "    plot_trees(track_df)\n",
    "    results.append(track_df)\n",
    "    plt.title(f\"Trees: {len(track_df['tree_id'].unique())}\")\n",
    "    plt.show()"
   ]
  },
  {
   "cell_type": "markdown",
   "metadata": {},
   "source": [
    "# 10 Pulses"
   ]
  },
  {
   "cell_type": "code",
   "execution_count": null,
   "metadata": {},
   "outputs": [],
   "source": [
    "roll = 20\n",
    "std_factor = 1/10\n",
    "max_distance = 30\n",
    "sim_num = 100\n",
    "folder = \"results/P10\"\n",
    "pulses = 10\n",
    "\n",
    "many_splits = []\n",
    "few_splits = []\n",
    "lt = get_laptrack(max_distance=max_distance)\n",
    "\n",
    "for sim_id in tqdm(range(sim_num)):\n",
    "    sim_path = f\"results/P10/out-{sim_id}.csv\"\n",
    "    track_df, split_df, merge_df = analize_tracks(sim_path, max_distance=30, roll=20, std_factor=1/10)    \n",
    "    if (track_df['tree_id'] > pulses).any():\n",
    "        many_splits.append(sim_id)\n",
    "    if len(track_df.tree_id.unique()) < pulses:\n",
    "        few_splits.append(sim_id)"
   ]
  },
  {
   "cell_type": "code",
   "execution_count": null,
   "metadata": {},
   "outputs": [],
   "source": [
    "for i, sim_id in enumerate(many_splits + few_splits):\n",
    "    sim_path = f\"results/P10/out-{sim_id}.csv\"\n",
    "    track_df, split_df, merge_df = analize_tracks(sim_path, max_distance=30, roll=20, std_factor=1/10)\n",
    "    plot_tracks(track_df, split_df, merge_df)\n",
    "    plt.title(f\"Number of trees {len(track_df.tree_id.unique())}\")\n",
    "    plt.show()\n"
   ]
  },
  {
   "cell_type": "markdown",
   "metadata": {},
   "source": [
    "# Get data"
   ]
  },
  {
   "cell_type": "code",
   "execution_count": null,
   "metadata": {},
   "outputs": [],
   "source": [
    "#---------      Get 10 pulses data      ----------\n",
    "#pulses = 10\n",
    "#sim_num = 100\n",
    "#folder = \"results/P10\"\n",
    "\n",
    "#---------      Get 50 pulses data      ----------\n",
    "#pulses = 50\n",
    "#sim_num = 10\n",
    "#folder = \"results/P50\"\n",
    "Path(folder).mkdir(exist_ok=True, parents=True)"
   ]
  },
  {
   "cell_type": "code",
   "execution_count": null,
   "metadata": {},
   "outputs": [],
   "source": [
    "for channel_height in [7]:\n",
    "\n",
    "    client = VisAVisClient(\n",
    "        visavis_bin=f'../target/bins/vis-a-vis-{channel_height}',\n",
    "    )\n",
    "\n",
    "    for interval in [150]:\n",
    "\n",
    "        protocol_file_path = make_protocol(\n",
    "            pulse_intervals = (pulses - 1 ) *  [interval] + [1500],\n",
    "            duration=4,\n",
    "            out_folder='./'\n",
    "        )\n",
    "        \n",
    "        for sim in tqdm(range(sim_num)):\n",
    "            result = client.run(\n",
    "                parameters_json=PARAMETERS_DEFAULT,\n",
    "                protocol_file_path= protocol_file_path,\n",
    "            )\n",
    "            result.states.to_csv(f\"{folder}/out-{sim}.csv\", index=False)"
   ]
  },
  {
   "cell_type": "code",
   "execution_count": null,
   "metadata": {},
   "outputs": [],
   "source": [
    "#colors = [list(np.random.choice(range(256), size=3)) for _ in range(len(track_df['tree_id'].unique()))]\n",
    "#cmap = matplotlib.colors.ListedColormap(colors)"
   ]
  }
 ],
 "metadata": {
  "kernelspec": {
   "display_name": "usr",
   "language": "python",
   "name": "python3"
  },
  "language_info": {
   "codemirror_mode": {
    "name": "ipython",
    "version": 3
   },
   "file_extension": ".py",
   "mimetype": "text/x-python",
   "name": "python",
   "nbconvert_exporter": "python",
   "pygments_lexer": "ipython3",
   "version": "3.11.4"
  },
  "orig_nbformat": 4
 },
 "nbformat": 4,
 "nbformat_minor": 2
}
