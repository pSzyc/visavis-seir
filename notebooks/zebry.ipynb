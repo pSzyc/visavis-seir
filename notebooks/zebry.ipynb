{
 "cells": [
  {
   "cell_type": "code",
   "execution_count": null,
   "id": "2621c543",
   "metadata": {},
   "outputs": [],
   "source": [
    "#import sys\n",
    "#sys.path.insert(0, '/path/to/seir-visavis') # in order to be able to import from scripts.py"
   ]
  },
  {
   "cell_type": "code",
   "execution_count": null,
   "id": "8dd5be6a",
   "metadata": {},
   "outputs": [],
   "source": [
    "import numpy as np\n",
    "import pandas as pd\n",
    "import seaborn as sns\n",
    "import matplotlib.pyplot as plt\n",
    "from scripts.client import VisAVisClient\n",
    "from scripts.make_protocol import make_protocol"
   ]
  },
  {
   "cell_type": "code",
   "execution_count": null,
   "id": "ed9d6575",
   "metadata": {},
   "outputs": [],
   "source": [
    "from subplots_from_axsize import subplots_from_axsize\n",
    "\n",
    "def plot_result(outfile, result, title=None):\n",
    "    data = result.states\n",
    "    \n",
    "    fig, ax = subplots_from_axsize(\n",
    "        1, 1, axsize=(20, 8),\n",
    "        left=0., right=0., bottom=0., top=0.\n",
    "    )\n",
    "\n",
    "    data_selected = data.copy() #data[data['seconds'] < 4*60*60].copy()\n",
    "    data_selected['E'] = data_selected['E'] > 0\n",
    "    data_selected['I'] = data_selected['I'] > 0\n",
    "    data_selected['R'] = data_selected['R'] > 0\n",
    "\n",
    "    img_E = data_selected.groupby(['seconds', 'h'])['E'].mean().unstack().to_numpy().T\n",
    "    img_I = data_selected.groupby(['seconds', 'h'])['I'].mean().unstack().to_numpy().T\n",
    "    img_R = data_selected.groupby(['seconds', 'h'])['R'].mean().unstack().to_numpy().T\n",
    "\n",
    "    img = img_E + img_I\n",
    "\n",
    "    ax.imshow(\n",
    "        img,\n",
    "        cmap='gray',\n",
    "        origin='lower',\n",
    "        aspect='auto',\n",
    "        interpolation='none',\n",
    "    )\n",
    "\n",
    "    ax.set_xlabel('time')\n",
    "    ax.set_axis_off()\n",
    "    \n",
    "    if title is not None:\n",
    "        ax.annotate(\n",
    "            title, (0.5, 0.9),\n",
    "            xycoords='axes fraction', va='center', ha='center',\n",
    "            color='red', fontsize=32\n",
    "        )\n",
    "\n",
    "    fig.savefig(outfile)\n",
    "    plt.close(fig)"
   ]
  },
  {
   "cell_type": "code",
   "execution_count": null,
   "id": "780769e8",
   "metadata": {},
   "outputs": [],
   "source": [
    "PARAMETERS_DEFAULT = {\n",
    "  \"c_rate\": 1,\n",
    "  \"e_incr\": 1,\n",
    "  \"i_incr\": 1,\n",
    "  \"r_incr\": 0.0667\n",
    "}"
   ]
  },
  {
   "cell_type": "code",
   "execution_count": null,
   "id": "e71d9e18",
   "metadata": {
    "scrolled": true
   },
   "outputs": [],
   "source": [
    "%%time\n",
    "sim_num = 100\n",
    "results = []\n",
    "for channel_height in [7]:\n",
    "\n",
    "    client = VisAVisClient(\n",
    "        visavis_bin=f'/home/hombresabio/AI/Waves/visavis-seir/target/bins/vis-a-vis-{channel_height}',\n",
    "    )\n",
    "\n",
    "    for interval in [100]:\n",
    "\n",
    "        protocol_file_path = make_protocol(\n",
    "            pulse_intervals = [interval, 1500],\n",
    "            duration=4,\n",
    "            out_folder='./', #f'./interval-{interval}',\n",
    "        )\n",
    "        \n",
    "        for sim in range(sim_num):\n",
    "            result = client.run(\n",
    "                parameters_json=PARAMETERS_DEFAULT,\n",
    "                protocol_file_path= protocol_file_path,\n",
    "            )\n",
    "            results.append(result.states)\n",
    "\n",
    "        #plot_result(\n",
    "        #    f\"./tkankony_{channel_height}_{interval}.png\",\n",
    "        #    result,\n",
    "        #    title=f\"channel height: {channel_height}, interval: {interval}\"\n",
    "        #)"
   ]
  },
  {
   "cell_type": "markdown",
   "id": "e3707513",
   "metadata": {},
   "source": [
    "# Visualization"
   ]
  },
  {
   "cell_type": "code",
   "execution_count": null,
   "id": "74faea51",
   "metadata": {},
   "outputs": [],
   "source": [
    "cols = 4\n",
    "rows = 20\n",
    "plt.figure(figsize=(4* cols, 4 * rows)) \n",
    "for i, df in enumerate(results[:rows]):\n",
    "    ax_1 = plt.subplot(rows, cols, 4 * i + 1)\n",
    "    img_E = df.groupby(['seconds', 'h'])['E'].sum().unstack().T\n",
    "    img_I = df.groupby(['seconds', 'h'])['I'].sum().unstack().T\n",
    "    img = img_E + img_I\n",
    "    h_max = df['h'].max()\n",
    "    h_min = df['h'].min() + 1 # at h = 0 we have empty cells blocking the signal\n",
    "    \n",
    "    ax_1.imshow(\n",
    "        img.to_numpy(),\n",
    "        cmap='gray',\n",
    "        origin='lower',\n",
    "        aspect='auto',\n",
    "        interpolation='none',\n",
    "    )\n",
    "    ax_1.set_xlabel('time')\n",
    "    ax_1.set_axis_off()\n",
    "\n",
    "    ax_2 = plt.subplot(rows, cols, 4 * i + 2)\n",
    "    roll_start = img.iloc[h_min].rolling(5).mean() # img indexed by position in channel \n",
    "    activations_start = roll_start[(roll_start > 0) & (roll_start.shift(-1) == 0)].reset_index()\n",
    "    activations_start = activations_start[((activations_start.seconds - activations_start.seconds.shift(1) > 40)) | (activations_start.seconds.shift(1).isna())]\n",
    "    plt.scatter(activations_start.seconds, activations_start[h_min], color = 'red')\n",
    "    plt.plot(roll_start)\n",
    "    ax_2.set_title(f\"Pulses at start {len(activations_start)}\")\n",
    "\n",
    "    ax_3 = plt.subplot(rows, cols, 4 * i + 3)\n",
    "    roll_finish = img.iloc[h_max].rolling(5).mean()\n",
    "    activations_finish = roll_finish[(roll_finish > 0) & (roll_finish.shift(-1) == 0)].reset_index()\n",
    "    activations_finish = activations_finish[((activations_finish.seconds - activations_finish.seconds.shift(1) > 40)) | (activations_finish.seconds.shift(1).isna()) ]\n",
    "    plt.scatter(activations_finish.seconds, activations_finish[h_max], color = 'red')\n",
    "\n",
    "    plt.plot(roll_finish)  \n",
    "    ax_3.set_title(f\"Pulses on finish {len(activations_finish)}\")\n",
    "\n",
    "\n",
    "    ax_4 = plt.subplot(rows, cols, 4 * i + 4)\n",
    "    roll_total_infected = img.sum(axis=0).rolling(10).mean() # sum over all positions at given moment\n",
    "    plt.plot(roll_total_infected)  \n",
    "    ax_4.set_title(f\"Infected cells moving average\")\n"
   ]
  },
  {
   "cell_type": "markdown",
   "id": "38a9b692",
   "metadata": {},
   "source": [
    "todo: Co dzieje się z drugim pulsem:\n",
    "1. dociera\n",
    "2. znika\n",
    "3. rodzi (co i ile)<br>\n",
    "a) Kiedy <br>\n",
    "b) Jak daleko od 1 pulsu"
   ]
  },
  {
   "cell_type": "markdown",
   "id": "83c2d7ff",
   "metadata": {},
   "source": [
    "# Analysis"
   ]
  },
  {
   "cell_type": "code",
   "execution_count": null,
   "id": "85c24fa2",
   "metadata": {},
   "outputs": [],
   "source": [
    "activations = []\n",
    "stats = []\n",
    "for i, df in enumerate(results):\n",
    "    img_E = df.groupby(['seconds', 'h'])['E'].sum().unstack().T\n",
    "    img_I = df.groupby(['seconds', 'h'])['I'].sum().unstack().T\n",
    "    img = img_E + img_I\n",
    "\n",
    "    roll_start = img.iloc[1].rolling(3).mean()\n",
    "    activations_start = roll_start[(roll_start > 0) & (roll_start.shift(-1) == 0)]\n",
    "    times_start = activations_start.index.values\n",
    "    activations.extend([(time, 'start') for time in times_start])\n",
    "\n",
    "    roll_finish = img.iloc[-1].rolling(3).mean()\n",
    "    activations_finish = roll_finish[(roll_finish > 0) & (roll_finish.shift(-1) == 0)]\n",
    "    times_finish = activations_finish.index.values\n",
    "    activations.extend([(time, 'finish') for time in times_finish])\n",
    "\n",
    "    if len(times_finish) < 2:\n",
    "        times_finish = np.append(times_finish,[np.nan, np.nan])\n",
    "\n",
    "    stats.append((len(activations_start), len(activations_finish), times_finish[0], times_finish[1]))"
   ]
  },
  {
   "cell_type": "code",
   "execution_count": null,
   "id": "3c835474",
   "metadata": {},
   "outputs": [],
   "source": [
    "df_activations = pd.DataFrame(activations, columns=['time', 'type'])\n",
    "df_stats = pd.DataFrame(stats, columns = ['Start Activations', 'Finish Activations', 'First Finish', 'Second Finish'])"
   ]
  },
  {
   "cell_type": "code",
   "execution_count": null,
   "id": "73357511",
   "metadata": {},
   "outputs": [],
   "source": [
    "plt.title(\"Time of arrival of signal at the end of a cannal\")\n",
    "sns.histplot(df_activations[df_activations.type == \"finish\"], bins = 100)\n",
    "\n",
    "plt.axvline(x=df_stats['First Finish'].min(), color = 'g')\n",
    "plt.axvline(x=df_stats['First Finish'].max(), color = 'g')\n",
    "\n",
    "plt.axvline(x=df_stats['Second Finish'].min(), color = 'red')\n",
    "plt.axvline(x=df_stats['Second Finish'].max(), color = 'red')\n",
    "\n",
    "#plt.axvline(x=920, color = 'pink')\n",
    "#df_stats.loc[df_stats['Second Finish'] > 920, 'Second Finish'] = np.nan"
   ]
  },
  {
   "cell_type": "code",
   "execution_count": null,
   "id": "7dcced75",
   "metadata": {},
   "outputs": [],
   "source": [
    "p = df_stats['Second Finish'].value_counts().sum() / len(df_stats)\n",
    "print(f\"1. P dotarcia: {p:.2f}\\n2. P zaniku/kolizji: {1-p:.2f}\")"
   ]
  },
  {
   "cell_type": "code",
   "execution_count": null,
   "id": "a8e709c8",
   "metadata": {},
   "outputs": [],
   "source": [
    "df_second_fine = df_stats[(~df_stats['Second Finish'].isna()) & (~df_stats['First Finish'].isna())]"
   ]
  },
  {
   "cell_type": "code",
   "execution_count": null,
   "id": "c8ce65fd",
   "metadata": {},
   "outputs": [],
   "source": [
    "plt.figure(figsize=(12, 4)) \n",
    "plt.subplot(1, 3, 1).set_title(\"Additional fronts - start line\", fontsize = 10)\n",
    "sns.histplot(df_second_fine['Start Activations'] - 2, stat='probability')\n",
    "plt.subplot(1, 3, 2).set_title(\"Additional fronts - finish line\", fontsize = 10)\n",
    "sns.histplot(df_second_fine['Finish Activations'] - 2, stat='probability')\n",
    "plt.subplot(1, 3, 3).set_title(\"Additional fronts - sum\", fontsize = 10)\n",
    "sns.histplot(df_second_fine['Start Activations'] + df_second_fine['Finish Activations'] - 4, stat='probability')\n"
   ]
  },
  {
   "cell_type": "code",
   "execution_count": null,
   "id": "f4d7b0b7",
   "metadata": {},
   "outputs": [],
   "source": []
  }
 ],
 "metadata": {
  "kernelspec": {
   "display_name": "Python 3 (ipykernel)",
   "language": "python",
   "name": "python3"
  },
  "language_info": {
   "codemirror_mode": {
    "name": "ipython",
    "version": 3
   },
   "file_extension": ".py",
   "mimetype": "text/x-python",
   "name": "python",
   "nbconvert_exporter": "python",
   "pygments_lexer": "ipython3",
   "version": "3.11.4"
  }
 },
 "nbformat": 4,
 "nbformat_minor": 5
}
