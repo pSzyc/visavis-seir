{
 "cells": [
  {
   "cell_type": "code",
   "execution_count": null,
   "id": "2621c543",
   "metadata": {},
   "outputs": [],
   "source": [
    "import sys\n",
    "sys.path.insert(0, '/home/hombresabio/AI/Waves/visavis-seir') # in order to be able to import from scripts.py"
   ]
  },
  {
   "cell_type": "code",
   "execution_count": null,
   "id": "8dd5be6a",
   "metadata": {},
   "outputs": [],
   "source": [
    "import numpy as np\n",
    "import pandas as pd\n",
    "import seaborn as sns\n",
    "import matplotlib.pyplot as plt\n",
    "from scripts.client import VisAVisClient\n",
    "from scripts.make_protocol import make_protocol"
   ]
  },
  {
   "cell_type": "code",
   "execution_count": null,
   "id": "ed9d6575",
   "metadata": {},
   "outputs": [],
   "source": [
    "from subplots_from_axsize import subplots_from_axsize\n",
    "\n",
    "def plot_result(outfile, result, title=None):\n",
    "    data = result.states\n",
    "    \n",
    "    fig, ax = subplots_from_axsize(\n",
    "        1, 1, axsize=(20, 8),\n",
    "        left=0., right=0., bottom=0., top=0.\n",
    "    )\n",
    "\n",
    "    data_selected = data.copy() #data[data['seconds'] < 4*60*60].copy()\n",
    "    data_selected['E'] = data_selected['E'] > 0\n",
    "    data_selected['I'] = data_selected['I'] > 0\n",
    "    data_selected['R'] = data_selected['R'] > 0\n",
    "\n",
    "    img_E = data_selected.groupby(['seconds', 'h'])['E'].mean().unstack().to_numpy().T\n",
    "    img_I = data_selected.groupby(['seconds', 'h'])['I'].mean().unstack().to_numpy().T\n",
    "    img_R = data_selected.groupby(['seconds', 'h'])['R'].mean().unstack().to_numpy().T\n",
    "\n",
    "    img = img_E + img_I\n",
    "\n",
    "    ax.imshow(\n",
    "        img,\n",
    "        cmap='gray',\n",
    "        origin='lower',\n",
    "        aspect='auto',\n",
    "        interpolation='none',\n",
    "    )\n",
    "\n",
    "    ax.set_xlabel('time')\n",
    "    ax.set_axis_off()\n",
    "    \n",
    "    if title is not None:\n",
    "        ax.annotate(\n",
    "            title, (0.5, 0.9),\n",
    "            xycoords='axes fraction', va='center', ha='center',\n",
    "            color='red', fontsize=32\n",
    "        )\n",
    "\n",
    "    fig.savefig(outfile)\n",
    "    plt.close(fig)"
   ]
  },
  {
   "cell_type": "code",
   "execution_count": null,
   "id": "780769e8",
   "metadata": {},
   "outputs": [],
   "source": [
    "PARAMETERS_DEFAULT = {\n",
    "  \"c_rate\": 1,\n",
    "  \"e_incr\": 1,\n",
    "  \"i_incr\": 1,\n",
    "  \"r_incr\": 0.0667\n",
    "}"
   ]
  },
  {
   "cell_type": "code",
   "execution_count": null,
   "id": "e71d9e18",
   "metadata": {
    "scrolled": true
   },
   "outputs": [],
   "source": [
    "sim_num = 100\n",
    "results = []\n",
    "for channel_height in [7]:\n",
    "\n",
    "    client = VisAVisClient(\n",
    "        visavis_bin=f'/home/hombresabio/AI/Waves/visavis-seir/target/bins/vis-a-vis-{channel_height}',\n",
    "    )\n",
    "\n",
    "    for interval in [100]:\n",
    "\n",
    "        protocol_file_path = make_protocol(\n",
    "            pulse_intervals = [interval, 1500],\n",
    "            duration=4,\n",
    "            out_folder='./', #f'./interval-{interval}',\n",
    "        )\n",
    "        \n",
    "        for sim in range(sim_num):\n",
    "            result = client.run(\n",
    "                parameters_json=PARAMETERS_DEFAULT,\n",
    "                protocol_file_path= protocol_file_path,\n",
    "            )\n",
    "            results.append(result.states)\n",
    "\n",
    "        #plot_result(\n",
    "        #    f\"./tkankony_{channel_height}_{interval}.png\",\n",
    "        #    result,\n",
    "        #    title=f\"channel height: {channel_height}, interval: {interval}\"\n",
    "        #)"
   ]
  },
  {
   "cell_type": "markdown",
   "id": "e3707513",
   "metadata": {},
   "source": [
    "# Visualization"
   ]
  },
  {
   "cell_type": "code",
   "execution_count": null,
   "id": "949e51ba",
   "metadata": {},
   "outputs": [],
   "source": [
    "def get_activations(img, h, plot = False):\n",
    "    roll_start = img.iloc[h].rolling(5, center=True, win_type='gaussian', min_periods = 1).mean(std=2) # img indexed by position in channel \n",
    "    activations_start = roll_start[(roll_start.diff().fillna(0) >= 0) & (roll_start.diff().fillna(0).shift(-1) < 0)].reset_index()\n",
    "    if plot:\n",
    "        plt.scatter(activations_start.seconds, activations_start[h], color = 'red')\n",
    "        plt.plot(roll_start)\n",
    "    return activations_start\n",
    "\n",
    "def get_activations_time(img, t, plot = False, roll = 10):\n",
    "    roll_start = img.T.loc[t].rolling(roll, center=True, win_type='gaussian', min_periods = 1).mean(std=roll/6) # img indexed by position in channel \n",
    "    activations_start = roll_start[(roll_start.diff().fillna(0) >= 0) & (roll_start.diff().fillna(0).shift(-1) < 0)].reset_index()\n",
    "    if plot:\n",
    "        plt.scatter(activations_start.seconds, activations_start[t], color = 'red')\n",
    "        plt.plot(roll_start)\n",
    "    return activations_start\n",
    "\n",
    "def get_infected_img(df):\n",
    "    img_E = df.groupby(['seconds', 'h'])['E'].sum().unstack().T\n",
    "    img_I = df.groupby(['seconds', 'h'])['I'].sum().unstack().T\n",
    "    img = img_E + img_I\n",
    "    return img\n",
    "\n",
    "def track(prev, prev_indices, curr, used_indices, threshold=2):\n",
    "     prev_iterator = zip(prev, prev_indices )\n",
    "     def next_iteration():\n",
    "         try:\n",
    "             return next(prev_iterator)\n",
    "         except:\n",
    "             return np.inf, np.inf\n",
    "\n",
    "     curr_indices = []\n",
    "\n",
    "     while True:\n",
    "         if x < y - threshold:\n",
    "             x, x_ind = next_iteration()\n",
    "         if x > y + threshold:\n",
    "             curr_indices.append(used_indices)\n",
    "             used_indices += 1\n",
    "             try:\n",
    "                 y = next(curr)\n",
    "             except:\n",
    "                 break\n",
    "         else:\n",
    "             curr_indices.append(x_ind)\n",
    "             x,x_ind = next(prev_iterator)\n",
    "             try:\n",
    "                 y = next(curr)\n",
    "             except:\n",
    "                 break"
   ]
  },
  {
   "cell_type": "code",
   "execution_count": null,
   "id": "e7284f91",
   "metadata": {},
   "outputs": [],
   "source": [
    "from laptrack import LapTrack\n",
    "max_distance = 25\n",
    "lt = LapTrack(\n",
    "    track_dist_metric=\"sqeuclidean\",  # The similarity metric for particles. See `scipy.spatial.distance.cdist` for allowed values.\n",
    "    splitting_dist_metric=\"sqeuclidean\",\n",
    "    merging_dist_metric=\"sqeuclidean\",\n",
    "    # the square of the cutoff distance for the \"sqeuclidean\" metric\n",
    "    track_cost_cutoff=max_distance**2,\n",
    "    splitting_cost_cutoff=max_distance**2,  # or False for non-splitting case\n",
    "    merging_cost_cutoff=max_distance**2,  # or False for non-merging case\n",
    ")\n"
   ]
  },
  {
   "cell_type": "code",
   "execution_count": null,
   "id": "465de2fc",
   "metadata": {},
   "outputs": [],
   "source": [
    "df = results[1]\n",
    "img = get_infected_img(df)\n",
    "df_spots = pd.concat([get_activations_time(img, t, roll=20).h for t in img.columns], names=['seconds'], keys=img.columns).reset_index()"
   ]
  },
  {
   "cell_type": "code",
   "execution_count": null,
   "id": "60f2d287",
   "metadata": {},
   "outputs": [],
   "source": [
    "df_spots['seconds']//=4"
   ]
  },
  {
   "cell_type": "code",
   "execution_count": null,
   "id": "f03f6b56",
   "metadata": {},
   "outputs": [],
   "source": [
    "track_df, split_df, merge_df = lt.predict_dataframe(\n",
    "    df_spots[['h', 'seconds']].sort_values(by='seconds'),\n",
    "    coordinate_cols=[\n",
    "        \"h\",\n",
    "    ],  # the column names for the coordinates\n",
    "    frame_col=\"seconds\",  # the column name for the frame (default \"frame\")\n",
    "    only_coordinate_cols=False,  \n",
    "    # if False, returned track_df includes columns not in coordinate_cols.\n",
    "    # False will be the default in the major release.\n",
    ")"
   ]
  },
  {
   "cell_type": "code",
   "execution_count": null,
   "id": "d267c1f4",
   "metadata": {},
   "outputs": [],
   "source": [
    "df_spots"
   ]
  },
  {
   "cell_type": "code",
   "execution_count": null,
   "id": "6c537f14",
   "metadata": {},
   "outputs": [],
   "source": [
    "df_spots.groupby(['seconds']).size().value_counts()"
   ]
  },
  {
   "cell_type": "code",
   "execution_count": null,
   "metadata": {},
   "outputs": [],
   "source": [
    "import matplotlib\n",
    "matplotlib.use(\"TkAgg\")\n",
    "\n",
    "plt.figure(figsize=(3, 3))\n",
    "frames = track_df.index.get_level_values(\"frame\")\n",
    "frame_range = [frames.min(), frames.max()]\n",
    "k1, k2 = \"seconds\", \"h\"\n",
    "keys = [k1, k2]\n",
    "\n",
    "\n",
    "def get_track_end(track_id, first=True):\n",
    "    df = track_df[track_df[\"track_id\"] == track_id].sort_index(level=\"frame\")\n",
    "    return df.iloc[0 if first else -1][keys]\n",
    "\n",
    "\n",
    "for track_id, grp in track_df.groupby(\"track_id\"):\n",
    "    df = grp.reset_index().sort_values(\"frame\")\n",
    "    plt.scatter(df[k1], df[k2], c=df[\"track_id\"], vmin=0, vmax=20, cmap='tab20')#, vmin=frame_range[0], vmax=frame_range[1])\n",
    "    for i in range(len(df) - 1):\n",
    "        pos1 = df.iloc[i][keys]\n",
    "        pos2 = df.iloc[i + 1][keys]\n",
    "        plt.plot([pos1[0], pos2[0]], [pos1[1], pos2[1]], \"-k\")\n",
    "    for _, row in list(split_df.iterrows()) + list(merge_df.iterrows()):\n",
    "        pos1 = get_track_end(row[\"parent_track_id\"], first=False)\n",
    "        pos2 = get_track_end(row[\"child_track_id\"], first=True)\n",
    "        plt.plot([pos1[0], pos2[0]], [pos1[1], pos2[1]], \"-k\")\n",
    "\n",
    "\n",
    "# plt.xticks([])\n",
    "# plt.yticks([])\n",
    "plt.show()\n",
    "# plt.xlim(300/4, 350/4)\n",
    "# plt.ylim(200/4, 260/4)"
   ]
  },
  {
   "cell_type": "code",
   "execution_count": null,
   "id": "83298c53",
   "metadata": {},
   "outputs": [],
   "source": [
    "track_df[['track_id', 'tree_id']].drop_duplicates()"
   ]
  },
  {
   "cell_type": "code",
   "execution_count": null,
   "id": "47ea9549",
   "metadata": {},
   "outputs": [],
   "source": [
    "plt.set_cmap('rainbow')\n",
    "for t in range(232,260,4):\n",
    "\n",
    "    roll_start = img[t].rolling(5, center=True, win_type='gaussian', min_periods = 1).mean(std=2) # img indexed by position in channel \n",
    "\n",
    "    plt.plot(roll_start)\n",
    "plt.xlim(20,100)"
   ]
  },
  {
   "cell_type": "code",
   "execution_count": null,
   "id": "7110d462",
   "metadata": {},
   "outputs": [],
   "source": [
    "ax_1 = plt.gca()\n",
    "ax_1.imshow(\n",
    "    img.to_numpy(),\n",
    "    cmap='gray',\n",
    "    origin='lower',\n",
    "    aspect='auto',\n",
    "    interpolation='none',\n",
    ")\n",
    "ax_1.set_xlabel('time')\n",
    "ax_1.set_axis_off()"
   ]
  },
  {
   "cell_type": "code",
   "execution_count": null,
   "id": "74faea51",
   "metadata": {},
   "outputs": [],
   "source": [
    "#activations_start = activations_start[((activations_start.seconds - activations_start.seconds.shift(1) > 40)) | (activations_start.seconds.shift(1).isna())]\n",
    "\n",
    "cols = 4\n",
    "rows = 20\n",
    "plt.figure(figsize=(4* cols, 4 * rows))\n",
    "\n",
    "\n",
    "for i, df in enumerate(results[:rows]):\n",
    "    ax_1 = plt.subplot(rows, cols, 4 * i + 1)\n",
    "    img = get_infected_img(df)\n",
    "    h_max = df['h'].max()\n",
    "    h_min = df['h'].min() + 2 # at h = 0 we have empty cells blocking the signal\n",
    "    \n",
    "    ax_1.imshow(\n",
    "        img.to_numpy(),\n",
    "        cmap='gray',\n",
    "        origin='lower',\n",
    "        aspect='auto',\n",
    "        interpolation='none',\n",
    "    )\n",
    "    ax_1.set_xlabel('time')\n",
    "    ax_1.set_axis_off()\n",
    "    \n",
    "    ax_2 = plt.subplot(rows, cols, 4 * i + 2)\n",
    "    activ_start = get_activations(img, h_min, plot = True)\n",
    "    ax_2.set_title(f\"Activations at start: {len(activ_start)}\")\n",
    "    \n",
    "    ax_3 = plt.subplot(rows, cols, 4 * i + 3)\n",
    "    activ_end = get_activations(img, h_max, plot = True)\n",
    "    ax_3.set_title(f\"Activations at end: {len(activ_end)}\")\n",
    "\n",
    "    ax_4 = plt.subplot(rows, cols, 4 * i + 4)\n",
    "    roll_total_infected = img.sum(axis=0).rolling(10).mean() # sum over all positions at given moment\n",
    "    plt.plot(roll_total_infected)  \n",
    "    ax_4.set_title(f\"Infected cells moving average\")\n"
   ]
  },
  {
   "cell_type": "markdown",
   "id": "38a9b692",
   "metadata": {},
   "source": [
    "todo: Co dzieje się z drugim pulsem:\n",
    "1. dociera\n",
    "2. znika\n",
    "3. rodzi (co i ile)<br>\n",
    "a) Kiedy <br>\n",
    "b) Jak daleko od 1 pulsu"
   ]
  },
  {
   "cell_type": "markdown",
   "id": "83c2d7ff",
   "metadata": {},
   "source": [
    "# Analysis"
   ]
  },
  {
   "cell_type": "code",
   "execution_count": null,
   "id": "85c24fa2",
   "metadata": {},
   "outputs": [],
   "source": [
    "activations = []\n",
    "stats = []\n",
    "for i, df in enumerate(results):\n",
    "    img = get_infected_img(df)\n",
    "    h_max = df['h'].max()\n",
    "    h_min = df['h'].min() + 2 \n",
    "\n",
    "    activations_start = get_activations(img, h_min)\n",
    "    times_start = activations_start.seconds\n",
    "    activations.extend([(time, 'start') for time in times_start])\n",
    "\n",
    "    activations_end = get_activations(img, h_max)\n",
    "    times_end = activations_end.seconds\n",
    "    activations.extend([(time, 'finish') for time in times_end])\n",
    "\n",
    "    if len(times_end) < 2:\n",
    "        times_end = np.append(times_end,[np.nan, np.nan])\n",
    "\n",
    "    stats.append((len(activations_start), len(activations_end), times_end[0], times_end[1]))"
   ]
  },
  {
   "cell_type": "code",
   "execution_count": null,
   "id": "3c835474",
   "metadata": {},
   "outputs": [],
   "source": [
    "df_activations = pd.DataFrame(activations, columns=['time', 'type'])\n",
    "df_stats = pd.DataFrame(stats, columns = ['Start Activations', 'Finish Activations', 'First Finish', 'Second Finish'])"
   ]
  },
  {
   "cell_type": "code",
   "execution_count": null,
   "id": "73357511",
   "metadata": {},
   "outputs": [],
   "source": [
    "plt.title(\"Time of arrival of signal at the end of a cannal\")\n",
    "sns.histplot(df_activations[df_activations.type == \"finish\"], bins = 100)\n",
    "\n",
    "plt.axvline(x=df_stats['First Finish'].min(), color = 'g')\n",
    "plt.axvline(x=df_stats['First Finish'].max(), color = 'g')\n",
    "\n",
    "plt.axvline(x=df_stats['Second Finish'].min(), color = 'red')\n",
    "plt.axvline(x=df_stats['Second Finish'].max(), color = 'red')\n",
    "\n",
    "#plt.axvline(x=920, color = 'pink')\n",
    "#df_stats.loc[df_stats['Second Finish'] > 920, 'Second Finish'] = np.nan"
   ]
  },
  {
   "cell_type": "code",
   "execution_count": null,
   "id": "7dcced75",
   "metadata": {},
   "outputs": [],
   "source": [
    "p = df_stats['Second Finish'].value_counts().sum() / len(df_stats)\n",
    "print(f\"1. P dotarcia: {p:.2f}\\n2. P zaniku/kolizji: {1-p:.2f}\")"
   ]
  },
  {
   "cell_type": "code",
   "execution_count": null,
   "id": "a8e709c8",
   "metadata": {},
   "outputs": [],
   "source": [
    "df_second_fine = df_stats[(~df_stats['Second Finish'].isna()) & (~df_stats['First Finish'].isna())]"
   ]
  },
  {
   "cell_type": "code",
   "execution_count": null,
   "id": "c8ce65fd",
   "metadata": {},
   "outputs": [],
   "source": [
    "plt.figure(figsize=(12, 4)) \n",
    "plt.subplot(1, 3, 1).set_title(\"Additional fronts - start line\", fontsize = 10)\n",
    "sns.histplot(df_second_fine['Start Activations'] - 2, stat='probability')\n",
    "plt.subplot(1, 3, 2).set_title(\"Additional fronts - finish line\", fontsize = 10)\n",
    "sns.histplot(df_second_fine['Finish Activations'] - 2, stat='probability')\n",
    "plt.subplot(1, 3, 3).set_title(\"Additional fronts - sum\", fontsize = 10)\n",
    "sns.histplot(df_second_fine['Start Activations'] + df_second_fine['Finish Activations'] - 4, stat='probability')\n"
   ]
  },
  {
   "cell_type": "code",
   "execution_count": null,
   "id": "f4d7b0b7",
   "metadata": {},
   "outputs": [],
   "source": []
  }
 ],
 "metadata": {
  "kernelspec": {
   "display_name": "Python 3 (ipykernel)",
   "language": "python",
   "name": "python3"
  },
  "language_info": {
   "codemirror_mode": {
    "name": "ipython",
    "version": 3
   },
   "file_extension": ".py",
   "mimetype": "text/x-python",
   "name": "python",
   "nbconvert_exporter": "python",
   "pygments_lexer": "ipython3",
   "version": "3.11.4"
  }
 },
 "nbformat": 4,
 "nbformat_minor": 5
}
