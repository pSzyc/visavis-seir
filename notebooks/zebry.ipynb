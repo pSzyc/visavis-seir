{
 "cells": [
  {
   "cell_type": "code",
   "execution_count": 103,
   "id": "2621c543",
   "metadata": {},
   "outputs": [],
   "source": [
    "import sys\n",
    "sys.path.insert(0, '..') # in order to be able to import from scripts.py"
   ]
  },
  {
   "cell_type": "code",
   "execution_count": 104,
   "id": "8dd5be6a",
   "metadata": {},
   "outputs": [],
   "source": [
    "import numpy as np\n",
    "import pandas as pd\n",
    "import matplotlib.pyplot as plt\n",
    "from scripts.client import VisAVisClient\n",
    "from scripts.make_protocol import make_protocol"
   ]
  },
  {
   "cell_type": "code",
   "execution_count": 105,
   "id": "ed9d6575",
   "metadata": {},
   "outputs": [],
   "source": [
    "from subplots_from_axsize import subplots_from_axsize\n",
    "\n",
    "def plot_result(outfile, result, title=None):\n",
    "    data = result.states\n",
    "    \n",
    "    fig, ax = subplots_from_axsize(\n",
    "        1, 1, axsize=(20, 8),\n",
    "        left=0., right=0., bottom=0., top=0.\n",
    "    )\n",
    "\n",
    "    data_selected = data.copy()\n",
    "    data_selected['E'] = data_selected['E'] > 0\n",
    "    data_selected['I'] = data_selected['I'] > 0\n",
    "    data_selected['R'] = data_selected['R'] > 0\n",
    "\n",
    "    img_E = data_selected.groupby(['seconds', 'h'])['E'].mean().unstack().to_numpy().T\n",
    "    img_I = data_selected.groupby(['seconds', 'h'])['I'].mean().unstack().to_numpy().T\n",
    "    img_R = data_selected.groupby(['seconds', 'h'])['R'].mean().unstack().to_numpy().T\n",
    "\n",
    "    img = img_E + img_I\n",
    "\n",
    "    ax.imshow(\n",
    "        img,\n",
    "        cmap='gray',\n",
    "        origin='lower',\n",
    "        aspect='auto',\n",
    "        interpolation='none',\n",
    "    )\n",
    "\n",
    "    ax.set_xlabel('time')\n",
    "    ax.set_axis_off()\n",
    "    \n",
    "    if title is not None:\n",
    "        ax.annotate(\n",
    "            title, (0.5, 0.9),\n",
    "            xycoords='axes fraction', va='center', ha='center',\n",
    "            color='red', fontsize=32\n",
    "        )\n",
    "\n",
    "    fig.savefig(outfile)\n",
    "    plt.close(fig)"
   ]
  },
  {
   "cell_type": "code",
   "execution_count": 106,
   "id": "780769e8",
   "metadata": {},
   "outputs": [],
   "source": [
    "PARAMETERS_DEFAULT = {\n",
    "  \"c_rate\": 1,\n",
    "  \"e_incr\": 1,\n",
    "  \"i_incr\": 1,\n",
    "  \"r_incr\": 0.0667\n",
    "}"
   ]
  },
  {
   "cell_type": "code",
   "execution_count": null,
   "id": "e71d9e18",
   "metadata": {
    "scrolled": true
   },
   "outputs": [],
   "source": [
    "sim_time = 5000\n",
    "\n",
    "for channel_height in [6, 7 , 8]:\n",
    "\n",
    "    client = VisAVisClient(\n",
    "    )\n",
    "\n",
    "    for interval in [50, 100, 150, 200]:\n",
    "\n",
    "        protocol_file_path = make_protocol(\n",
    "            pulse_intervals =(sim_time // interval) * [interval],\n",
    "            duration=4,\n",
    "            out_folder='./'\n",
    "        )\n",
    "        \n",
    "        result = client.run(\n",
    "            parameters_json=PARAMETERS_DEFAULT,\n",
    "            protocol_file_path= protocol_file_path,\n",
    "        )\n",
    "        plot_result(\n",
    "            f\"./tkankony_{channel_height}_{interval}.png\",\n",
    "            result,\n",
    "            title=f\"channel height: {channel_height}, interval: {interval}\"\n",
    "        )"
   ]
  }
 ],
 "metadata": {
  "kernelspec": {
   "display_name": "Python 3 (ipykernel)",
   "language": "python",
   "name": "python3"
  },
  "language_info": {
   "codemirror_mode": {
    "name": "ipython",
    "version": 3
   },
   "file_extension": ".py",
   "mimetype": "text/x-python",
   "name": "python",
   "nbconvert_exporter": "python",
   "pygments_lexer": "ipython3",
   "version": "3.11.4"
  }
 },
 "nbformat": 4,
 "nbformat_minor": 5
}
