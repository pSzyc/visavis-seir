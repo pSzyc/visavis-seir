{
 "cells": [
  {
   "cell_type": "code",
   "execution_count": null,
   "id": "2621c543",
   "metadata": {},
   "outputs": [],
   "source": [
    "import sys\n",
    "sys.path.insert(0, '..') # in order to be able to import from scripts.py"
   ]
  },
  {
   "cell_type": "code",
   "execution_count": null,
   "id": "8dd5be6a",
   "metadata": {},
   "outputs": [],
   "source": [
    "import numpy as np\n",
    "import pandas as pd\n",
    "import seaborn as sns\n",
    "import matplotlib.pyplot as plt\n",
    "from scripts.client import VisAVisClient\n",
    "from scripts.make_protocol import make_protocol\n",
    "from laptrack import LapTrack\n",
    "import matplotlib\n",
    "matplotlib.use(\"TkAgg\")"
   ]
  },
  {
   "cell_type": "code",
   "execution_count": null,
   "id": "ed9d6575",
   "metadata": {},
   "outputs": [],
   "source": [
    "from subplots_from_axsize import subplots_from_axsize\n",
    "\n",
    "def plot_result(outfile, result, title=None):\n",
    "    data = result.states\n",
    "    \n",
    "    fig, ax = subplots_from_axsize(\n",
    "        1, 1, axsize=(20, 8),\n",
    "        left=0., right=0., bottom=0., top=0.\n",
    "    )\n",
    "\n",
    "    data_selected = data.copy() #data[data['seconds'] < 4*60*60].copy()\n",
    "    data_selected['E'] = data_selected['E'] > 0\n",
    "    data_selected['I'] = data_selected['I'] > 0\n",
    "    data_selected['R'] = data_selected['R'] > 0\n",
    "\n",
    "    img_E = data_selected.groupby(['seconds', 'h'])['E'].mean().unstack().to_numpy().T\n",
    "    img_I = data_selected.groupby(['seconds', 'h'])['I'].mean().unstack().to_numpy().T\n",
    "    img_R = data_selected.groupby(['seconds', 'h'])['R'].mean().unstack().to_numpy().T\n",
    "\n",
    "    img = img_E + img_I\n",
    "\n",
    "    ax.imshow(\n",
    "        img,\n",
    "        cmap='gray',\n",
    "        origin='lower',\n",
    "        aspect='auto',\n",
    "        interpolation='none',\n",
    "    )\n",
    "\n",
    "    ax.set_xlabel('time')\n",
    "    ax.set_axis_off()\n",
    "    \n",
    "    if title is not None:\n",
    "        ax.annotate(\n",
    "            title, (0.5, 0.9),\n",
    "            xycoords='axes fraction', va='center', ha='center',\n",
    "            color='red', fontsize=32\n",
    "        )\n",
    "\n",
    "    fig.savefig(outfile)\n",
    "    plt.close(fig)"
   ]
  },
  {
   "cell_type": "code",
   "execution_count": null,
   "id": "780769e8",
   "metadata": {},
   "outputs": [],
   "source": [
    "PARAMETERS_DEFAULT = {\n",
    "  \"c_rate\": 1,\n",
    "  \"e_incr\": 1,\n",
    "  \"i_incr\": 1,\n",
    "  \"r_incr\": 0.0667\n",
    "}"
   ]
  },
  {
   "cell_type": "code",
   "execution_count": null,
   "id": "e71d9e18",
   "metadata": {
    "scrolled": true
   },
   "outputs": [],
   "source": [
    "sim_num = 50\n",
    "results = []\n",
    "for channel_height in [7]:\n",
    "\n",
    "    client = VisAVisClient(\n",
    "        visavis_bin=f'/home/hombresabio/AI/Waves/visavis-seir/target/bins/vis-a-vis-{channel_height}',\n",
    "    )\n",
    "\n",
    "    for interval in [100]:\n",
    "\n",
    "        protocol_file_path = make_protocol(\n",
    "            pulse_intervals = [interval, 1500],\n",
    "            duration=4,\n",
    "            out_folder='./', #f'./interval-{interval}',\n",
    "        )\n",
    "        \n",
    "        for sim in range(sim_num):\n",
    "            result = client.run(\n",
    "                parameters_json=PARAMETERS_DEFAULT,\n",
    "                protocol_file_path= protocol_file_path,\n",
    "            )\n",
    "            results.append(result.states)\n",
    "\n",
    "        #plot_result(\n",
    "        #    f\"./tkankony_{channel_height}_{interval}.png\",\n",
    "        #    result,\n",
    "        #    title=f\"channel height: {channel_height}, interval: {interval}\"\n",
    "        #)"
   ]
  },
  {
   "cell_type": "markdown",
   "id": "e3707513",
   "metadata": {},
   "source": [
    "# Track"
   ]
  },
  {
   "cell_type": "code",
   "execution_count": null,
   "id": "949e51ba",
   "metadata": {},
   "outputs": [],
   "source": [
    "def get_activations(img, h, plot = False):\n",
    "    roll_start = img.iloc[h].rolling(5, center=True, win_type='gaussian', min_periods = 1).mean(std=2) # img indexed by position in channel \n",
    "    activations_start = roll_start[(roll_start.diff().fillna(0) >= 0) & (roll_start.diff().fillna(0).shift(-1) < 0)].reset_index()\n",
    "    if plot:\n",
    "        plt.scatter(activations_start.seconds, activations_start[h], color = 'red')\n",
    "        plt.plot(roll_start)\n",
    "    return activations_start\n",
    "\n",
    "def get_activations_time(img, t, plot = False, roll = 5):\n",
    "    roll_start = img.rolling(roll, center=True, win_type='gaussian', min_periods = 1).mean(std=roll/6) # img indexed by position in channel \n",
    "    roll_start_diff = roll_start.diff()\n",
    "    activations_start = roll_start[(roll_start_diff.fillna(np.inf) >= 0) & (roll_start_diff.shift(-1).fillna(-np.inf) < 0)]\n",
    "    if plot:\n",
    "        plt.scatter(activations_start.seconds, activations_start[t], color = 'red')\n",
    "        plt.plot(roll_start)\n",
    "    return activations_start\n",
    "\n",
    "def get_infected_img(df):\n",
    "    img_E = df.groupby(['seconds', 'h'])['E'].sum().unstack().T\n",
    "    img_I = df.groupby(['seconds', 'h'])['I'].sum().unstack().T\n",
    "    img = img_E + img_I\n",
    "    return img"
   ]
  },
  {
   "cell_type": "code",
   "execution_count": null,
   "id": "b8edabd3",
   "metadata": {},
   "outputs": [],
   "source": [
    "def get_tracks(img, lt, eps = 1e-3):\n",
    "    activations_times = get_activations_time(img, 0, roll=20)\n",
    "    df_activations = activations_times.reset_index().melt(\n",
    "        id_vars=[\"h\"],\n",
    "        var_name=\"seconds\", \n",
    "        value_name=\"peak\",\n",
    "    ).dropna()\n",
    "    df_activations['seconds'] = df_activations['seconds'].astype(int)\n",
    "    df_activations['seconds']//=4\n",
    "    df_activations['h'] += eps * df_activations['seconds']\n",
    "    track_df, split_df, merge_df = lt.predict_dataframe(\n",
    "        df_activations[['h', 'seconds']].sort_values(by='seconds'),\n",
    "        coordinate_cols=[\"h\"],  \n",
    "        frame_col=\"seconds\",\n",
    "        only_coordinate_cols=False,  \n",
    "    )\n",
    "    return (track_df, split_df, merge_df)\n",
    "\n",
    "def plot_tracks(track_df, split_df, merge_df):\n",
    "    frames = track_df.index.get_level_values(\"frame\")\n",
    "    frame_range = [frames.min(), frames.max()]\n",
    "    k1, k2 = \"seconds\", \"h\"\n",
    "    keys = [k1, k2]\n",
    "\n",
    "\n",
    "    def get_track_end(track_id, first=True):\n",
    "        df = track_df[track_df[\"track_id\"] == track_id].sort_index(level=\"frame\")\n",
    "        return df.iloc[0 if first else -1][keys]\n",
    "\n",
    "\n",
    "    for track_id, grp in track_df.groupby(\"track_id\"):\n",
    "        df = grp.reset_index().sort_values(\"frame\")\n",
    "        plt.scatter(df[k1], df[k2], c=df[\"track_id\"], vmin=0, vmax=20, cmap='tab20')#, vmin=frame_range[0], vmax=frame_range[1])\n",
    "        for i in range(len(df) - 1):\n",
    "            pos1 = df.iloc[i][keys]\n",
    "            pos2 = df.iloc[i + 1][keys]\n",
    "            plt.plot([pos1[0], pos2[0]], [pos1[1], pos2[1]], \"-k\")\n",
    "        for _, row in list(split_df.iterrows()) + list(merge_df.iterrows()):\n",
    "            pos1 = get_track_end(row[\"parent_track_id\"], first=False)\n",
    "            pos2 = get_track_end(row[\"child_track_id\"], first=True)\n",
    "            plt.plot([pos1[0], pos2[0]], [pos1[1], pos2[1]], \"-k\")\n",
    "    plt.show()"
   ]
  },
  {
   "cell_type": "markdown",
   "id": "83c2d7ff",
   "metadata": {},
   "source": [
    "# Analysis"
   ]
  },
  {
   "cell_type": "code",
   "execution_count": null,
   "id": "d9712dd1",
   "metadata": {},
   "outputs": [],
   "source": [
    "max_distance = 25\n",
    "lt = LapTrack(\n",
    "    track_dist_metric=\"sqeuclidean\",  # The similarity metric for particles. See `scipy.spatial.distance.cdist` for allowed values.\n",
    "    splitting_dist_metric=\"sqeuclidean\",\n",
    "    merging_dist_metric=\"sqeuclidean\",\n",
    "    track_cost_cutoff=max_distance**2,\n",
    "    splitting_cost_cutoff=max_distance**2,  # or False for non-splitting case\n",
    "    merging_cost_cutoff=False,  # or False for non-merging case\n",
    ")"
   ]
  },
  {
   "cell_type": "code",
   "execution_count": null,
   "id": "572ebd17",
   "metadata": {},
   "outputs": [],
   "source": [
    "df = results[2]\n",
    "img = get_infected_img(df)\n",
    "\n",
    "track_df, split_df, merge_df = get_tracks(img, lt)\n",
    "#activations_df = get_tracks(img, lt)"
   ]
  },
  {
   "cell_type": "code",
   "execution_count": null,
   "id": "85c24fa2",
   "metadata": {},
   "outputs": [],
   "source": [
    "events = []\n",
    "\n",
    "def get_events_df(track_df, split_df):\n",
    "    df = pd.pivot_table(track_df, 'h', ['track_id', 'seconds'])\n",
    "    front_speed = df['h'].groupby('track_id').diff().groupby('track_id').mean()\n",
    "    front_speed.name = 'front_speed'\n",
    "    front_direction = (front_speed > 0) * 2 - 1\n",
    "    front_direction.name = 'front_direction'\n",
    "    track_start = track_df.groupby('track_id')['seconds'].min()\n",
    "    tree_df = track_df.value_counts(['track_id', 'tree_id']).index.to_frame(index=False).set_index('track_id')   \n",
    "    events_df = split_df.join(front_direction, on='parent_track_id')\\\n",
    "        .join(front_direction, on='child_track_id', lsuffix='_parent', rsuffix='_child')\\\n",
    "            .join(track_start, on='child_track_id')\\\n",
    "                .join(tree_df, on='child_track_id')  \n",
    "    return events_df\n",
    "\n",
    "for i, df in enumerate(results):\n",
    "    img = get_infected_img(df)\n",
    "    track_df, split_df, merge_df = get_tracks(img, lt)\n",
    "    if len(split_df) == 0:\n",
    "        events.append(pd.DataFrame())\n",
    "        continue\n",
    "    events_df = get_events_df(track_df, split_df)\n",
    "    events_df.index.name = 'event_id'\n",
    "    events.append(events_df)\n",
    "    continue"
   ]
  },
  {
   "cell_type": "code",
   "execution_count": null,
   "id": "0dfac232",
   "metadata": {},
   "outputs": [],
   "source": [
    "df_results = pd.concat(events, names=['sim_id'], keys=range(len(results)))\n",
    "df_results"
   ]
  }
 ],
 "metadata": {
  "kernelspec": {
   "display_name": "Python 3 (ipykernel)",
   "language": "python",
   "name": "python3"
  },
  "language_info": {
   "codemirror_mode": {
    "name": "ipython",
    "version": 3
   },
   "file_extension": ".py",
   "mimetype": "text/x-python",
   "name": "python",
   "nbconvert_exporter": "python",
   "pygments_lexer": "ipython3",
   "version": "3.11.4"
  }
 },
 "nbformat": 4,
 "nbformat_minor": 5
}
